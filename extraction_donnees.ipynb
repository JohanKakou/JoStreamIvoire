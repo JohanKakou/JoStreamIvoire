{
 "cells": [
  {
   "attachments": {},
   "cell_type": "markdown",
   "id": "a525e6c0",
   "metadata": {},
   "source": [
    "# <center> TP DE SYSTEME DE RECOMMANDATION"
   ]
  },
  {
   "cell_type": "code",
   "execution_count": 2,
   "id": "a83360bc",
   "metadata": {},
   "outputs": [
    {
     "name": "stderr",
     "output_type": "stream",
     "text": [
      "/var/folders/df/rtd8q41s4lg7pk5mj05920sw0000gn/T/ipykernel_38758/1468756421.py:4: DtypeWarning: Columns (10) have mixed types. Specify dtype option on import or set low_memory=False.\n",
      "  data={i.replace(\".csv\", \"\"):pd.read_csv(path+i) for i in bases}\n"
     ]
    }
   ],
   "source": [
    "import pandas as pd\n",
    "bases=[\"movies_metadata.csv\",\"ratings_small.csv\"]\n",
    "path=\"/Users/johankakou/Library/CloudStorage/OneDrive-ENSEA/Vie pro/ISE 3/Cours 2022-2023/Option data science/Machine learning avancé/Projet Recommender system -- KAKOU Johan/Application web/data/\"\n",
    "data={i.replace(\".csv\", \"\"):pd.read_csv(path+i) for i in bases}"
   ]
  },
  {
   "cell_type": "code",
   "execution_count": 3,
   "id": "59264f70",
   "metadata": {},
   "outputs": [
    {
     "name": "stdout",
     "output_type": "stream",
     "text": [
      "Requirement already satisfied: faker in /Applications/Anaconda/anaconda3/lib/python3.9/site-packages (18.9.0)\n",
      "Requirement already satisfied: python-dateutil>=2.4 in /Applications/Anaconda/anaconda3/lib/python3.9/site-packages (from faker) (2.8.2)\n",
      "Requirement already satisfied: six>=1.5 in /Applications/Anaconda/anaconda3/lib/python3.9/site-packages (from python-dateutil>=2.4->faker) (1.10.0)\n"
     ]
    }
   ],
   "source": [
    "! pip install faker"
   ]
  },
  {
   "cell_type": "code",
   "execution_count": 4,
   "id": "84daceaf",
   "metadata": {},
   "outputs": [],
   "source": [
    "#Base utilisateurs\n",
    "import pandas as pd\n",
    "from faker import Faker\n",
    "import random\n",
    "import hashlib\n",
    "# Créer une instance de Faker\n",
    "fake = Faker(\"fr_FR\")\n",
    "# Définir la graine aléatoire\n",
    "random.seed(1234)\n",
    "utilisateurs=pd.DataFrame(data[\"ratings_small\"][\"userId\"].unique())"
   ]
  },
  {
   "cell_type": "code",
   "execution_count": 5,
   "id": "7f720406",
   "metadata": {},
   "outputs": [],
   "source": [
    "utilisateurs[\"nom_utilisateur\"]=utilisateurs[0].apply(lambda x: fake.last_name()+\" \"+fake.first_name())\n",
    "utilisateurs[\"mdp_crypte\"]=utilisateurs[0].apply(lambda x:hashlib.sha256(fake.word().encode()).hexdigest())\n",
    "utilisateurs[\"genre\"]=utilisateurs[0].apply(lambda x:fake.random_element(elements=('Homme', 'Femme')))\n",
    "utilisateurs[\"ville\"]=utilisateurs[0].apply(lambda x:fake.city())\n",
    "utilisateurs[\"mail\"]=utilisateurs[0].apply(lambda x:fake.email())"
   ]
  },
  {
   "cell_type": "code",
   "execution_count": 6,
   "id": "82f64489",
   "metadata": {},
   "outputs": [],
   "source": [
    "utilisateurs= utilisateurs.rename(columns={0: 'id'})"
   ]
  },
  {
   "cell_type": "code",
   "execution_count": 7,
   "id": "b6764767",
   "metadata": {},
   "outputs": [
    {
     "data": {
      "text/html": [
       "<div>\n",
       "<style scoped>\n",
       "    .dataframe tbody tr th:only-of-type {\n",
       "        vertical-align: middle;\n",
       "    }\n",
       "\n",
       "    .dataframe tbody tr th {\n",
       "        vertical-align: top;\n",
       "    }\n",
       "\n",
       "    .dataframe thead th {\n",
       "        text-align: right;\n",
       "    }\n",
       "</style>\n",
       "<table border=\"1\" class=\"dataframe\">\n",
       "  <thead>\n",
       "    <tr style=\"text-align: right;\">\n",
       "      <th></th>\n",
       "      <th>id</th>\n",
       "      <th>nom_utilisateur</th>\n",
       "      <th>mdp_crypte</th>\n",
       "      <th>genre</th>\n",
       "      <th>ville</th>\n",
       "      <th>mail</th>\n",
       "    </tr>\n",
       "  </thead>\n",
       "  <tbody>\n",
       "    <tr>\n",
       "      <th>0</th>\n",
       "      <td>1</td>\n",
       "      <td>Carre Édith</td>\n",
       "      <td>386f8dd68b2c1bdc54c0bc5717bb3a69f5339c2f22bac5...</td>\n",
       "      <td>Homme</td>\n",
       "      <td>Allard</td>\n",
       "      <td>ferrandwilliam@example.org</td>\n",
       "    </tr>\n",
       "    <tr>\n",
       "      <th>1</th>\n",
       "      <td>2</td>\n",
       "      <td>Pascal Olivier</td>\n",
       "      <td>6f90ae80068cdc7054d6e9e9ab930a9d21a9ac654971fa...</td>\n",
       "      <td>Homme</td>\n",
       "      <td>Guilbert-sur-Nicolas</td>\n",
       "      <td>qdelannoy@example.net</td>\n",
       "    </tr>\n",
       "    <tr>\n",
       "      <th>2</th>\n",
       "      <td>3</td>\n",
       "      <td>Gomez Laurent</td>\n",
       "      <td>c8ad48290b8edbb4ef18afbb59257069b48193c5452ef3...</td>\n",
       "      <td>Homme</td>\n",
       "      <td>Berger</td>\n",
       "      <td>hoaraudaniel@example.com</td>\n",
       "    </tr>\n",
       "    <tr>\n",
       "      <th>3</th>\n",
       "      <td>4</td>\n",
       "      <td>Bodin Monique</td>\n",
       "      <td>5b81c7c3bb698fbfea7fc79fe3f11cb5fde0861b94fffa...</td>\n",
       "      <td>Homme</td>\n",
       "      <td>Faivre</td>\n",
       "      <td>margaretgros@example.com</td>\n",
       "    </tr>\n",
       "    <tr>\n",
       "      <th>4</th>\n",
       "      <td>5</td>\n",
       "      <td>Paris Bernard</td>\n",
       "      <td>53b95a34f534b719dedb60ef39d15a1367c77743978708...</td>\n",
       "      <td>Homme</td>\n",
       "      <td>Meunier-sur-Sanchez</td>\n",
       "      <td>sophiebesnard@example.org</td>\n",
       "    </tr>\n",
       "  </tbody>\n",
       "</table>\n",
       "</div>"
      ],
      "text/plain": [
       "   id nom_utilisateur                                         mdp_crypte   \n",
       "0   1     Carre Édith  386f8dd68b2c1bdc54c0bc5717bb3a69f5339c2f22bac5...  \\\n",
       "1   2  Pascal Olivier  6f90ae80068cdc7054d6e9e9ab930a9d21a9ac654971fa...   \n",
       "2   3   Gomez Laurent  c8ad48290b8edbb4ef18afbb59257069b48193c5452ef3...   \n",
       "3   4   Bodin Monique  5b81c7c3bb698fbfea7fc79fe3f11cb5fde0861b94fffa...   \n",
       "4   5   Paris Bernard  53b95a34f534b719dedb60ef39d15a1367c77743978708...   \n",
       "\n",
       "   genre                 ville                        mail  \n",
       "0  Homme                Allard  ferrandwilliam@example.org  \n",
       "1  Homme  Guilbert-sur-Nicolas       qdelannoy@example.net  \n",
       "2  Homme                Berger    hoaraudaniel@example.com  \n",
       "3  Homme                Faivre    margaretgros@example.com  \n",
       "4  Homme   Meunier-sur-Sanchez   sophiebesnard@example.org  "
      ]
     },
     "execution_count": 7,
     "metadata": {},
     "output_type": "execute_result"
    }
   ],
   "source": [
    "utilisateurs.head()"
   ]
  },
  {
   "cell_type": "code",
   "execution_count": 8,
   "id": "cc191655",
   "metadata": {},
   "outputs": [],
   "source": [
    "#Base films\n",
    "films=data[\"movies_metadata\"].loc[:,[\"id\",\"title\",\"tagline\",\"genres\",\"overview\",\"release_date\",\"runtime\",\"vote_average\",\"vote_count\"]]\n",
    "films.rename(columns={\"title\":\"titre\",\"overview\":\"description\",\"release_date\":\"date_sortie\",\"runtime\":\"duree\",\"vote_average\":\"vote_moyen\",\"vote_count\":\"nbre_votes\"},inplace=True)"
   ]
  },
  {
   "cell_type": "code",
   "execution_count": 19,
   "id": "5f60c1dc",
   "metadata": {},
   "outputs": [],
   "source": [
    "#!pip install --upgrade sqlalchemy\n",
    "import datetime\n",
    "from JoStreamIvoire import app,db\n",
    "from JoStreamIvoire.models import Utilisateur,Film\n",
    "def inserer_utilisateur(user):\n",
    "    user_to_create = Utilisateur(nom_utilisateur=user[\"nom_utilisateur\"],\n",
    "                                     mail=user[\"mail\"],\n",
    "                                     password=user[\"mdp_crypte\"],\n",
    "                                     gender=user[\"genre\"],\n",
    "                                     ville=user[\"ville\"]\n",
    "                                    )\n",
    "    db.session.add(user_to_create)\n",
    "    db.session.commit()\n",
    "def inserer_film(film):\n",
    "    if film[\"tagline\"]:\n",
    "        film[\"tagline\"]=\"r.a.s\"\n",
    "    film_to_create = Film(  titre=film[\"titre\"],\n",
    "                            tagline=film[\"tagline\"],\n",
    "                            genres=film[\"genres\"],\n",
    "                            description=film[\"description\"],\n",
    "                            duree=film[\"duree\"],\n",
    "                            nbre_votes=film[\"nbre_votes\"],\n",
    "                            vote_moyen=film[\"vote_moyen\"]\n",
    "                        )\n",
    "    db.session.add(film_to_create)\n",
    "    db.session.commit()  "
   ]
  },
  {
   "cell_type": "code",
   "execution_count": 16,
   "id": "82e6818e",
   "metadata": {},
   "outputs": [],
   "source": [
    "db.session.rollback()"
   ]
  },
  {
   "cell_type": "code",
   "execution_count": 20,
   "id": "d0169a28",
   "metadata": {},
   "outputs": [
    {
     "data": {
      "text/plain": [
       "[]"
      ]
     },
     "execution_count": 20,
     "metadata": {},
     "output_type": "execute_result"
    }
   ],
   "source": [
    "Film.query.all()"
   ]
  },
  {
   "cell_type": "code",
   "execution_count": 22,
   "id": "aba89e7b",
   "metadata": {},
   "outputs": [
    {
     "name": "stderr",
     "output_type": "stream",
     "text": [
      "/var/folders/df/rtd8q41s4lg7pk5mj05920sw0000gn/T/ipykernel_38758/1968835790.py:16: SettingWithCopyWarning: \n",
      "A value is trying to be set on a copy of a slice from a DataFrame\n",
      "\n",
      "See the caveats in the documentation: https://pandas.pydata.org/pandas-docs/stable/user_guide/indexing.html#returning-a-view-versus-a-copy\n",
      "  film[\"tagline\"]=\"r.a.s\"\n"
     ]
    }
   ],
   "source": [
    "with app.app_context():\n",
    "    for id_film in films.head(10000).index:\n",
    "        try :\n",
    "            inserer_film(films.iloc[id_film,:])\n",
    "        except:\n",
    "            pass\n",
    "    for id_utilisateur in utilisateurs.index:\n",
    "        try :\n",
    "            inserer_utilisateur(utilisateurs.iloc[id_utilisateur,:])  \n",
    "        except:\n",
    "            pass"
   ]
  },
  {
   "cell_type": "code",
   "execution_count": 51,
   "id": "3b96267b",
   "metadata": {},
   "outputs": [
    {
     "name": "stdout",
     "output_type": "stream",
     "text": [
      "Unexpected exception formatting exception. Falling back to standard exception\n"
     ]
    },
    {
     "name": "stderr",
     "output_type": "stream",
     "text": [
      "Traceback (most recent call last):\n",
      "  File \"/Applications/Anaconda/anaconda3/lib/python3.9/site-packages/sqlalchemy/engine/base.py\", line 1670, in _execute_context\n",
      "    context = constructor(\n",
      "  File \"/Applications/Anaconda/anaconda3/lib/python3.9/site-packages/sqlalchemy/engine/default.py\", line 1052, in _init_compiled\n",
      "    param = [\n",
      "  File \"/Applications/Anaconda/anaconda3/lib/python3.9/site-packages/sqlalchemy/engine/default.py\", line 1053, in <listcomp>\n",
      "    processors[key](compiled_params[key])\n",
      "  File \"/Applications/Anaconda/anaconda3/lib/python3.9/site-packages/sqlalchemy/sql/sqltypes.py\", line 2069, in process\n",
      "    value = epoch + value\n",
      "TypeError: unsupported operand type(s) for +: 'datetime.datetime' and 'float'\n",
      "\n",
      "The above exception was the direct cause of the following exception:\n",
      "\n",
      "Traceback (most recent call last):\n",
      "  File \"/Applications/Anaconda/anaconda3/lib/python3.9/site-packages/IPython/core/interactiveshell.py\", line 3508, in run_code\n",
      "    exec(code_obj, self.user_global_ns, self.user_ns)\n",
      "  File \"/var/folders/df/rtd8q41s4lg7pk5mj05920sw0000gn/T/ipykernel_27274/314975026.py\", line 4, in <module>\n",
      "    inserer_film(films.iloc[id_film,:])\n",
      "  File \"/var/folders/df/rtd8q41s4lg7pk5mj05920sw0000gn/T/ipykernel_27274/3571177457.py\", line 24, in inserer_film\n",
      "    db.session.commit()\n",
      "  File \"<string>\", line 2, in commit\n",
      "  File \"/Applications/Anaconda/anaconda3/lib/python3.9/site-packages/sqlalchemy/orm/session.py\", line 1428, in commit\n",
      "    self._transaction.commit(_to_root=self.future)\n",
      "  File \"/Applications/Anaconda/anaconda3/lib/python3.9/site-packages/sqlalchemy/orm/session.py\", line 829, in commit\n",
      "    self._prepare_impl()\n",
      "  File \"/Applications/Anaconda/anaconda3/lib/python3.9/site-packages/sqlalchemy/orm/session.py\", line 808, in _prepare_impl\n",
      "    self.session.flush()\n",
      "  File \"/Applications/Anaconda/anaconda3/lib/python3.9/site-packages/sqlalchemy/orm/session.py\", line 3286, in flush\n",
      "    self._flush(objects)\n",
      "  File \"/Applications/Anaconda/anaconda3/lib/python3.9/site-packages/sqlalchemy/orm/session.py\", line 3426, in _flush\n",
      "    transaction.rollback(_capture_exception=True)\n",
      "  File \"/Applications/Anaconda/anaconda3/lib/python3.9/site-packages/sqlalchemy/util/langhelpers.py\", line 70, in __exit__\n",
      "    compat.raise_(\n",
      "  File \"/Applications/Anaconda/anaconda3/lib/python3.9/site-packages/sqlalchemy/util/compat.py\", line 207, in raise_\n",
      "    raise exception\n",
      "  File \"/Applications/Anaconda/anaconda3/lib/python3.9/site-packages/sqlalchemy/orm/session.py\", line 3386, in _flush\n",
      "    flush_context.execute()\n",
      "  File \"/Applications/Anaconda/anaconda3/lib/python3.9/site-packages/sqlalchemy/orm/unitofwork.py\", line 456, in execute\n",
      "    rec.execute(self)\n",
      "  File \"/Applications/Anaconda/anaconda3/lib/python3.9/site-packages/sqlalchemy/orm/unitofwork.py\", line 630, in execute\n",
      "    util.preloaded.orm_persistence.save_obj(\n",
      "  File \"/Applications/Anaconda/anaconda3/lib/python3.9/site-packages/sqlalchemy/orm/persistence.py\", line 242, in save_obj\n",
      "    _emit_insert_statements(\n",
      "  File \"/Applications/Anaconda/anaconda3/lib/python3.9/site-packages/sqlalchemy/orm/persistence.py\", line 1219, in _emit_insert_statements\n",
      "    result = connection._execute_20(\n",
      "  File \"/Applications/Anaconda/anaconda3/lib/python3.9/site-packages/sqlalchemy/engine/base.py\", line 1582, in _execute_20\n",
      "    return meth(self, args_10style, kwargs_10style, execution_options)\n",
      "  File \"/Applications/Anaconda/anaconda3/lib/python3.9/site-packages/sqlalchemy/sql/elements.py\", line 324, in _execute_on_connection\n",
      "    return connection._execute_clauseelement(\n",
      "  File \"/Applications/Anaconda/anaconda3/lib/python3.9/site-packages/sqlalchemy/engine/base.py\", line 1451, in _execute_clauseelement\n",
      "    ret = self._execute_context(\n",
      "  File \"/Applications/Anaconda/anaconda3/lib/python3.9/site-packages/sqlalchemy/engine/base.py\", line 1676, in _execute_context\n",
      "    self._handle_dbapi_exception(\n",
      "  File \"/Applications/Anaconda/anaconda3/lib/python3.9/site-packages/sqlalchemy/engine/base.py\", line 1994, in _handle_dbapi_exception\n",
      "    util.raise_(\n",
      "  File \"/Applications/Anaconda/anaconda3/lib/python3.9/site-packages/sqlalchemy/util/compat.py\", line 207, in raise_\n",
      "    raise exception\n",
      "  File \"/Applications/Anaconda/anaconda3/lib/python3.9/site-packages/sqlalchemy/engine/base.py\", line 1670, in _execute_context\n",
      "    context = constructor(\n",
      "  File \"/Applications/Anaconda/anaconda3/lib/python3.9/site-packages/sqlalchemy/engine/default.py\", line 1052, in _init_compiled\n",
      "    param = [\n",
      "  File \"/Applications/Anaconda/anaconda3/lib/python3.9/site-packages/sqlalchemy/engine/default.py\", line 1053, in <listcomp>\n",
      "    processors[key](compiled_params[key])\n",
      "  File \"/Applications/Anaconda/anaconda3/lib/python3.9/site-packages/sqlalchemy/sql/sqltypes.py\", line 2069, in process\n",
      "    value = epoch + value\n",
      "sqlalchemy.exc.StatementError: (builtins.TypeError) unsupported operand type(s) for +: 'datetime.datetime' and 'float'\n",
      "[SQL: INSERT INTO film (titre, tagline, genres, description, date_sortie, duree, nbre_votes, vote_moyen, last_vote) VALUES (?, ?, ?, ?, ?, ?, ?, ?, ?)]\n",
      "[parameters: [{'genres': \"[{'id': 16, 'name': 'Animation'}, {'id': 35, 'name': 'Comedy'}, {'id': 10751, 'name': 'Family'}]\", 'duree': 81.0, 'titre': 'Toy Story', ' ... (296 characters truncated) ... Buzz. But when circumstances separate Buzz and Woody from their owner, the duo eventually learns to put aside their differences.\", 'last_vote': None}]]\n",
      "\n",
      "During handling of the above exception, another exception occurred:\n",
      "\n",
      "Traceback (most recent call last):\n",
      "  File \"/Applications/Anaconda/anaconda3/lib/python3.9/site-packages/IPython/core/interactiveshell.py\", line 2105, in showtraceback\n",
      "    stb = self.InteractiveTB.structured_traceback(\n",
      "  File \"/Applications/Anaconda/anaconda3/lib/python3.9/site-packages/IPython/core/ultratb.py\", line 1396, in structured_traceback\n",
      "    return FormattedTB.structured_traceback(\n",
      "  File \"/Applications/Anaconda/anaconda3/lib/python3.9/site-packages/IPython/core/ultratb.py\", line 1287, in structured_traceback\n",
      "    return VerboseTB.structured_traceback(\n",
      "  File \"/Applications/Anaconda/anaconda3/lib/python3.9/site-packages/IPython/core/ultratb.py\", line 1140, in structured_traceback\n",
      "    formatted_exception = self.format_exception_as_a_whole(etype, evalue, etb, number_of_lines_of_context,\n",
      "  File \"/Applications/Anaconda/anaconda3/lib/python3.9/site-packages/IPython/core/ultratb.py\", line 1055, in format_exception_as_a_whole\n",
      "    frames.append(self.format_record(record))\n",
      "  File \"/Applications/Anaconda/anaconda3/lib/python3.9/site-packages/IPython/core/ultratb.py\", line 955, in format_record\n",
      "    frame_info.lines, Colors, self.has_colors, lvals\n",
      "  File \"/Applications/Anaconda/anaconda3/lib/python3.9/site-packages/IPython/core/ultratb.py\", line 778, in lines\n",
      "    return self._sd.lines\n",
      "  File \"/Applications/Anaconda/anaconda3/lib/python3.9/site-packages/stack_data/utils.py\", line 144, in cached_property_wrapper\n",
      "    value = obj.__dict__[self.func.__name__] = self.func(obj)\n",
      "  File \"/Applications/Anaconda/anaconda3/lib/python3.9/site-packages/stack_data/core.py\", line 734, in lines\n",
      "    pieces = self.included_pieces\n",
      "  File \"/Applications/Anaconda/anaconda3/lib/python3.9/site-packages/stack_data/utils.py\", line 144, in cached_property_wrapper\n",
      "    value = obj.__dict__[self.func.__name__] = self.func(obj)\n",
      "  File \"/Applications/Anaconda/anaconda3/lib/python3.9/site-packages/stack_data/core.py\", line 677, in included_pieces\n",
      "    scope_pieces = self.scope_pieces\n",
      "  File \"/Applications/Anaconda/anaconda3/lib/python3.9/site-packages/stack_data/utils.py\", line 144, in cached_property_wrapper\n",
      "    value = obj.__dict__[self.func.__name__] = self.func(obj)\n",
      "  File \"/Applications/Anaconda/anaconda3/lib/python3.9/site-packages/stack_data/core.py\", line 614, in scope_pieces\n",
      "    scope_start, scope_end = self.source.line_range(self.scope)\n",
      "  File \"/Applications/Anaconda/anaconda3/lib/python3.9/site-packages/stack_data/core.py\", line 178, in line_range\n",
      "    return line_range(self.asttext(), node)\n",
      "  File \"/Applications/Anaconda/anaconda3/lib/python3.9/site-packages/executing/executing.py\", line 428, in asttext\n",
      "    self._asttext = ASTText(self.text, tree=self.tree, filename=self.filename)\n",
      "  File \"/Applications/Anaconda/anaconda3/lib/python3.9/site-packages/asttokens/asttokens.py\", line 307, in __init__\n",
      "    super(ASTText, self).__init__(source_text, filename)\n",
      "  File \"/Applications/Anaconda/anaconda3/lib/python3.9/site-packages/asttokens/asttokens.py\", line 44, in __init__\n",
      "    source_text = six.ensure_text(source_text)\n",
      "AttributeError: module 'six' has no attribute 'ensure_text'\n"
     ]
    }
   ],
   "source": [
    "with app.app_context():\n",
    "    for id_film in films.head(10000).index:\n",
    "        inserer_film(films.iloc[id_film,:])\n",
    "    for id_utilisateur in utilisateurs.index:\n",
    "        inserer_utilisateur(utilisateurs.iloc[id_utilisateur,:])    "
   ]
  },
  {
   "attachments": {},
   "cell_type": "markdown",
   "id": "070a61b6",
   "metadata": {},
   "source": [
    "### a) Chargement du jeu de donnees"
   ]
  },
  {
   "cell_type": "code",
   "execution_count": 5,
   "id": "1e44595c",
   "metadata": {},
   "outputs": [
    {
     "data": {
      "text/html": [
       "<div>\n",
       "<style scoped>\n",
       "    .dataframe tbody tr th:only-of-type {\n",
       "        vertical-align: middle;\n",
       "    }\n",
       "\n",
       "    .dataframe tbody tr th {\n",
       "        vertical-align: top;\n",
       "    }\n",
       "\n",
       "    .dataframe thead th {\n",
       "        text-align: right;\n",
       "    }\n",
       "</style>\n",
       "<table border=\"1\" class=\"dataframe\">\n",
       "  <thead>\n",
       "    <tr style=\"text-align: right;\">\n",
       "      <th></th>\n",
       "      <th>adult</th>\n",
       "      <th>belongs_to_collection</th>\n",
       "      <th>budget</th>\n",
       "      <th>genres</th>\n",
       "      <th>homepage</th>\n",
       "      <th>id</th>\n",
       "      <th>imdb_id</th>\n",
       "      <th>original_language</th>\n",
       "      <th>original_title</th>\n",
       "      <th>overview</th>\n",
       "      <th>...</th>\n",
       "      <th>release_date</th>\n",
       "      <th>revenue</th>\n",
       "      <th>runtime</th>\n",
       "      <th>spoken_languages</th>\n",
       "      <th>status</th>\n",
       "      <th>tagline</th>\n",
       "      <th>title</th>\n",
       "      <th>video</th>\n",
       "      <th>vote_average</th>\n",
       "      <th>vote_count</th>\n",
       "    </tr>\n",
       "  </thead>\n",
       "  <tbody>\n",
       "    <tr>\n",
       "      <th>0</th>\n",
       "      <td>False</td>\n",
       "      <td>{'id': 10194, 'name': 'Toy Story Collection', ...</td>\n",
       "      <td>30000000</td>\n",
       "      <td>[{'id': 16, 'name': 'Animation'}, {'id': 35, '...</td>\n",
       "      <td>http://toystory.disney.com/toy-story</td>\n",
       "      <td>862</td>\n",
       "      <td>tt0114709</td>\n",
       "      <td>en</td>\n",
       "      <td>Toy Story</td>\n",
       "      <td>Led by Woody, Andy's toys live happily in his ...</td>\n",
       "      <td>...</td>\n",
       "      <td>1995-10-30</td>\n",
       "      <td>373554033.0</td>\n",
       "      <td>81.0</td>\n",
       "      <td>[{'iso_639_1': 'en', 'name': 'English'}]</td>\n",
       "      <td>Released</td>\n",
       "      <td>NaN</td>\n",
       "      <td>Toy Story</td>\n",
       "      <td>False</td>\n",
       "      <td>7.7</td>\n",
       "      <td>5415.0</td>\n",
       "    </tr>\n",
       "    <tr>\n",
       "      <th>1</th>\n",
       "      <td>False</td>\n",
       "      <td>NaN</td>\n",
       "      <td>65000000</td>\n",
       "      <td>[{'id': 12, 'name': 'Adventure'}, {'id': 14, '...</td>\n",
       "      <td>NaN</td>\n",
       "      <td>8844</td>\n",
       "      <td>tt0113497</td>\n",
       "      <td>en</td>\n",
       "      <td>Jumanji</td>\n",
       "      <td>When siblings Judy and Peter discover an encha...</td>\n",
       "      <td>...</td>\n",
       "      <td>1995-12-15</td>\n",
       "      <td>262797249.0</td>\n",
       "      <td>104.0</td>\n",
       "      <td>[{'iso_639_1': 'en', 'name': 'English'}, {'iso...</td>\n",
       "      <td>Released</td>\n",
       "      <td>Roll the dice and unleash the excitement!</td>\n",
       "      <td>Jumanji</td>\n",
       "      <td>False</td>\n",
       "      <td>6.9</td>\n",
       "      <td>2413.0</td>\n",
       "    </tr>\n",
       "    <tr>\n",
       "      <th>2</th>\n",
       "      <td>False</td>\n",
       "      <td>{'id': 119050, 'name': 'Grumpy Old Men Collect...</td>\n",
       "      <td>0</td>\n",
       "      <td>[{'id': 10749, 'name': 'Romance'}, {'id': 35, ...</td>\n",
       "      <td>NaN</td>\n",
       "      <td>15602</td>\n",
       "      <td>tt0113228</td>\n",
       "      <td>en</td>\n",
       "      <td>Grumpier Old Men</td>\n",
       "      <td>A family wedding reignites the ancient feud be...</td>\n",
       "      <td>...</td>\n",
       "      <td>1995-12-22</td>\n",
       "      <td>0.0</td>\n",
       "      <td>101.0</td>\n",
       "      <td>[{'iso_639_1': 'en', 'name': 'English'}]</td>\n",
       "      <td>Released</td>\n",
       "      <td>Still Yelling. Still Fighting. Still Ready for...</td>\n",
       "      <td>Grumpier Old Men</td>\n",
       "      <td>False</td>\n",
       "      <td>6.5</td>\n",
       "      <td>92.0</td>\n",
       "    </tr>\n",
       "    <tr>\n",
       "      <th>3</th>\n",
       "      <td>False</td>\n",
       "      <td>NaN</td>\n",
       "      <td>16000000</td>\n",
       "      <td>[{'id': 35, 'name': 'Comedy'}, {'id': 18, 'nam...</td>\n",
       "      <td>NaN</td>\n",
       "      <td>31357</td>\n",
       "      <td>tt0114885</td>\n",
       "      <td>en</td>\n",
       "      <td>Waiting to Exhale</td>\n",
       "      <td>Cheated on, mistreated and stepped on, the wom...</td>\n",
       "      <td>...</td>\n",
       "      <td>1995-12-22</td>\n",
       "      <td>81452156.0</td>\n",
       "      <td>127.0</td>\n",
       "      <td>[{'iso_639_1': 'en', 'name': 'English'}]</td>\n",
       "      <td>Released</td>\n",
       "      <td>Friends are the people who let you be yourself...</td>\n",
       "      <td>Waiting to Exhale</td>\n",
       "      <td>False</td>\n",
       "      <td>6.1</td>\n",
       "      <td>34.0</td>\n",
       "    </tr>\n",
       "    <tr>\n",
       "      <th>4</th>\n",
       "      <td>False</td>\n",
       "      <td>{'id': 96871, 'name': 'Father of the Bride Col...</td>\n",
       "      <td>0</td>\n",
       "      <td>[{'id': 35, 'name': 'Comedy'}]</td>\n",
       "      <td>NaN</td>\n",
       "      <td>11862</td>\n",
       "      <td>tt0113041</td>\n",
       "      <td>en</td>\n",
       "      <td>Father of the Bride Part II</td>\n",
       "      <td>Just when George Banks has recovered from his ...</td>\n",
       "      <td>...</td>\n",
       "      <td>1995-02-10</td>\n",
       "      <td>76578911.0</td>\n",
       "      <td>106.0</td>\n",
       "      <td>[{'iso_639_1': 'en', 'name': 'English'}]</td>\n",
       "      <td>Released</td>\n",
       "      <td>Just When His World Is Back To Normal... He's ...</td>\n",
       "      <td>Father of the Bride Part II</td>\n",
       "      <td>False</td>\n",
       "      <td>5.7</td>\n",
       "      <td>173.0</td>\n",
       "    </tr>\n",
       "  </tbody>\n",
       "</table>\n",
       "<p>5 rows × 24 columns</p>\n",
       "</div>"
      ],
      "text/plain": [
       "   adult                              belongs_to_collection    budget   \n",
       "0  False  {'id': 10194, 'name': 'Toy Story Collection', ...  30000000  \\\n",
       "1  False                                                NaN  65000000   \n",
       "2  False  {'id': 119050, 'name': 'Grumpy Old Men Collect...         0   \n",
       "3  False                                                NaN  16000000   \n",
       "4  False  {'id': 96871, 'name': 'Father of the Bride Col...         0   \n",
       "\n",
       "                                              genres   \n",
       "0  [{'id': 16, 'name': 'Animation'}, {'id': 35, '...  \\\n",
       "1  [{'id': 12, 'name': 'Adventure'}, {'id': 14, '...   \n",
       "2  [{'id': 10749, 'name': 'Romance'}, {'id': 35, ...   \n",
       "3  [{'id': 35, 'name': 'Comedy'}, {'id': 18, 'nam...   \n",
       "4                     [{'id': 35, 'name': 'Comedy'}]   \n",
       "\n",
       "                               homepage     id    imdb_id original_language   \n",
       "0  http://toystory.disney.com/toy-story    862  tt0114709                en  \\\n",
       "1                                   NaN   8844  tt0113497                en   \n",
       "2                                   NaN  15602  tt0113228                en   \n",
       "3                                   NaN  31357  tt0114885                en   \n",
       "4                                   NaN  11862  tt0113041                en   \n",
       "\n",
       "                original_title   \n",
       "0                    Toy Story  \\\n",
       "1                      Jumanji   \n",
       "2             Grumpier Old Men   \n",
       "3            Waiting to Exhale   \n",
       "4  Father of the Bride Part II   \n",
       "\n",
       "                                            overview  ... release_date   \n",
       "0  Led by Woody, Andy's toys live happily in his ...  ...   1995-10-30  \\\n",
       "1  When siblings Judy and Peter discover an encha...  ...   1995-12-15   \n",
       "2  A family wedding reignites the ancient feud be...  ...   1995-12-22   \n",
       "3  Cheated on, mistreated and stepped on, the wom...  ...   1995-12-22   \n",
       "4  Just when George Banks has recovered from his ...  ...   1995-02-10   \n",
       "\n",
       "       revenue runtime                                   spoken_languages   \n",
       "0  373554033.0    81.0           [{'iso_639_1': 'en', 'name': 'English'}]  \\\n",
       "1  262797249.0   104.0  [{'iso_639_1': 'en', 'name': 'English'}, {'iso...   \n",
       "2          0.0   101.0           [{'iso_639_1': 'en', 'name': 'English'}]   \n",
       "3   81452156.0   127.0           [{'iso_639_1': 'en', 'name': 'English'}]   \n",
       "4   76578911.0   106.0           [{'iso_639_1': 'en', 'name': 'English'}]   \n",
       "\n",
       "     status                                            tagline   \n",
       "0  Released                                                NaN  \\\n",
       "1  Released          Roll the dice and unleash the excitement!   \n",
       "2  Released  Still Yelling. Still Fighting. Still Ready for...   \n",
       "3  Released  Friends are the people who let you be yourself...   \n",
       "4  Released  Just When His World Is Back To Normal... He's ...   \n",
       "\n",
       "                         title  video vote_average vote_count  \n",
       "0                    Toy Story  False          7.7     5415.0  \n",
       "1                      Jumanji  False          6.9     2413.0  \n",
       "2             Grumpier Old Men  False          6.5       92.0  \n",
       "3            Waiting to Exhale  False          6.1       34.0  \n",
       "4  Father of the Bride Part II  False          5.7      173.0  \n",
       "\n",
       "[5 rows x 24 columns]"
      ]
     },
     "execution_count": 5,
     "metadata": {},
     "output_type": "execute_result"
    }
   ],
   "source": [
    "data[\"movies_metadata\"]\n",
    "mov_met=data[\"movies_metadata\"]\n",
    "mov_met.head()"
   ]
  },
  {
   "cell_type": "code",
   "execution_count": 87,
   "id": "654411a5",
   "metadata": {},
   "outputs": [
    {
     "ename": "IndentationError",
     "evalue": "unexpected indent (3225853541.py, line 2)",
     "output_type": "error",
     "traceback": [
      "\u001b[0;36m  Cell \u001b[0;32mIn[87], line 2\u001b[0;36m\u001b[0m\n\u001b[0;31m    try :\u001b[0m\n\u001b[0m    ^\u001b[0m\n\u001b[0;31mIndentationError\u001b[0m\u001b[0;31m:\u001b[0m unexpected indent\n"
     ]
    }
   ],
   "source": [
    "#def probleme_conversion(x): \n",
    "    try :\n",
    "        int(x)\n",
    "        return True \n",
    "    except ValueError:\n",
    "        return False\n",
    "#films.drop(films[films[\"id\"].apply(probleme_conversion)].index,inplace=True)"
   ]
  },
  {
   "cell_type": "code",
   "execution_count": null,
   "id": "a017c2ac",
   "metadata": {},
   "outputs": [],
   "source": [
    "#films.loc[:,\"duree\"].astype(float)\n",
    "#films.loc[:,\"vote_moyen\"].astype(float)\n",
    "#films[\"id\"].astype(int)\n",
    "#films[\"nbre_vote\"].astype(int)"
   ]
  },
  {
   "cell_type": "code",
   "execution_count": null,
   "id": "e140e5bc",
   "metadata": {},
   "outputs": [
    {
     "data": {
      "text/plain": [
       "(45466, 9)"
      ]
     },
     "execution_count": 77,
     "metadata": {},
     "output_type": "execute_result"
    }
   ],
   "source": [
    "films.shape"
   ]
  },
  {
   "cell_type": "code",
   "execution_count": 11,
   "id": "8a4ad02a",
   "metadata": {},
   "outputs": [],
   "source": [
    "#!pip install --upgrade sqlalchemy\n",
    "import pandas as pd\n",
    "from sqlalchemy import create_engine\n",
    "\n",
    "# Créer une connexion à votre base de données\n",
    "engine = create_engine('sqlite:///JoStreamIvoire.db')\n",
    "\n",
    "# Exporter le DataFrame dans une table SQL\n",
    "table_name = 'Film'  # Remplacez par le nom de votre table SQL\n",
    "films.head(10).to_sql(table_name, con=engine, if_exists='replace', index=False)\n",
    "\n",
    "# Fermer la connexion à la base de données\n",
    "engine.dispose()"
   ]
  },
  {
   "cell_type": "code",
   "execution_count": 12,
   "id": "cf02c5a8",
   "metadata": {},
   "outputs": [],
   "source": [
    "#Base votes\n",
    "votes=data[\"ratings_small\"]\n",
    "table_name = 'votes'  # Remplacez par le nom de votre table SQL\n",
    "votes.head(10).to_sql(table_name, con=engine, if_exists='replace', index=False)\n",
    "\n",
    "# Fermer la connexion à la base de données\n",
    "engine.dispose()"
   ]
  },
  {
   "attachments": {},
   "cell_type": "markdown",
   "id": "91923f8a",
   "metadata": {},
   "source": [
    "L’une des mesures les plus élémentaires aux quelles vous pouvez penser est le classement pour décider quels 250 meilleurs films sont basés sur leurs notes respectives."
   ]
  },
  {
   "attachments": {},
   "cell_type": "markdown",
   "id": "70a04ed4",
   "metadata": {},
   "source": [
    "Cependant, l’utilisation d’une évaluation comme métrique comporte quelques mises en garde :"
   ]
  },
  {
   "attachments": {},
   "cell_type": "markdown",
   "id": "a243e44a",
   "metadata": {},
   "source": [
    "<p><li>D’une part, cela ne prend pas en considération la popularité d’un film. Par conséquent, un film avec une note de 9 sur 10 votants sera considéré comme « meilleur » qu’un film avec une note de 8,9 de 10 000 votants.\n",
    "\n",
    "<p>Par exemple, imaginez que vous voulez commander de la nourriture chinoise, vous avez quelques options, un restaurant a une note de 5 étoiles par seulement 5 personnes tandis que l’autre restaurant a 4,5 notes par 1000 personnes. Quel restaurant préféreriez-vous? Le deuxième, n’est-ce pas?\n",
    "\n",
    "<p>Bien sûr, il pourrait y avoir une exception que le premier restaurant a ouvert il y a quelques jours; Ainsi, moins de gens ont voté pour alors qu’au contraire, le deuxième restaurant est opérationnel depuis un an.\n",
    "\n",
    "<p><li>Dans le même ordre d’idées, cette mesure aura également tendance à favoriser les films avec un plus petit nombre d’électeurs avec des notes biaisées et / ou extrêmement élevées. Au fur et à mesure que le nombre de votants augmente, la note d’un film se régule et se rapproche d’une valeur qui reflète la qualité du film et donne à l’utilisateur une bien meilleure idée du film qu’il devrait choisir. Bien qu’il soit difficile de discerner la qualité d’un film avec extrêmement peu d’électeurs, vous devrez peut-être tenir compte de sources externes pour conclure."
   ]
  },
  {
   "attachments": {},
   "cell_type": "markdown",
   "id": "ab80326f",
   "metadata": {},
   "source": [
    "En tenant compte de ces lacunes, vous devez proposer une note pondérée qui tient compte de la note moyenne et du nombre de votes qu’elle a accumulés. Un tel système garantira qu’un film avec une note de 9 sur 100 000 votants obtient un score (beaucoup) plus élevé qu’un film avec la même note mais seulement quelques centaines d’électeurs."
   ]
  },
  {
   "attachments": {},
   "cell_type": "markdown",
   "id": "6552ea1f",
   "metadata": {},
   "source": [
    "Puisque vous essayez de construire un clone du Top 250 d’IMDB, utilisons sa formule de notation pondérée comme métrique / score. Mathématiquement, il est représenté comme suit:"
   ]
  },
  {
   "attachments": {},
   "cell_type": "markdown",
   "id": "c6959fea",
   "metadata": {},
   "source": [
    "## Weighted Rating"
   ]
  },
  {
   "attachments": {},
   "cell_type": "markdown",
   "id": "f4390c16",
   "metadata": {},
   "source": [
    "$$ (\\bf WR) = \\left({{\\bf v} \\over {\\bf v} + {\\bf m}} \\cdot R\\right) + \\left({{\\bf m} \\over {\\bf v} + {\\bf m}} \\cdot C\\right)$$"
   ]
  },
  {
   "attachments": {},
   "cell_type": "markdown",
   "id": "46b98147",
   "metadata": {},
   "source": [
    "Dans l’équation ci-dessus,\n",
    "\n",
    "<li>v est le nombre de votes pour le film;\n",
    "\n",
    "<li>m est le nombre minimum de votes requis pour figurer dans le tableau;\n",
    "\n",
    "<li>R est la note moyenne du film;\n",
    "\n",
    "<li>C est le vote moyen pour l’ensemble du rapport."
   ]
  },
  {
   "attachments": {},
   "cell_type": "markdown",
   "id": "7738b6d3",
   "metadata": {},
   "source": [
    "Vous disposez déjà des valeurs v et R pour chaque film du jeu de données. Il est également possible de calculer directement C à partir de ces données.(vote_count)(vote_average)"
   ]
  },
  {
   "attachments": {},
   "cell_type": "markdown",
   "id": "93299eed",
   "metadata": {},
   "source": [
    "La détermination d’une valeur appropriée pour est un hyperparamètre que vous pouvez choisir en conséquence puisqu’il n’y a pas de valeur correcte pour . Vous pouvez le considérer comme un filtre négatif préliminaire qui supprimera simplement les films qui ont un nombre de votes inférieur à un certain seuil . La sélectivité de votre filtre est à votre discrétion."
   ]
  },
  {
   "attachments": {},
   "cell_type": "markdown",
   "id": "d9ae2785",
   "metadata": {},
   "source": [
    "Vous utiliserez cutoff comme 90e percentile. En d’autres termes, pour qu’un film figure dans les charts, il doit avoir plus de votes qu’au moins 90% des films de la liste. (D’un autre côté, si vous aviez choisi le 75e centile, vous auriez considéré les 25% des films les plus performants en termes de nombre de votes recueillis. Au fur et à mesure que le percentile diminue, le nombre de films considérés augmente).\n",
    "\n",
    "Dans un premier temps, calculons la valeur de C, la note moyenne de tous les films à l’aide de la fonction pandas:.mean()\n"
   ]
  },
  {
   "attachments": {},
   "cell_type": "markdown",
   "id": "4201c8cd",
   "metadata": {},
   "source": [
    "## 1_a Calculate mean of vote average column"
   ]
  },
  {
   "cell_type": "code",
   "execution_count": 4,
   "id": "d72f965f",
   "metadata": {},
   "outputs": [
    {
     "data": {
      "text/plain": [
       "5.618207215134185"
      ]
     },
     "execution_count": 4,
     "metadata": {},
     "output_type": "execute_result"
    }
   ],
   "source": [
    "C=mov_met[\"vote_average\"].mean()\n",
    "C"
   ]
  },
  {
   "attachments": {},
   "cell_type": "markdown",
   "id": "0aa1c59b",
   "metadata": {},
   "source": [
    "Ensuite, calculons le nombre de votes, m, reçus par un film dans le 90e centile. La bibliothèque rend cette tâche extrêmement triviale en utilisant la méthode des pandas:pandas.quantile()"
   ]
  },
  {
   "attachments": {},
   "cell_type": "markdown",
   "id": "7310ebdd",
   "metadata": {},
   "source": [
    "## 1_b Calculate the minimum number of votes required to be in the chart, m"
   ]
  },
  {
   "cell_type": "code",
   "execution_count": 5,
   "id": "5eaf3521",
   "metadata": {},
   "outputs": [
    {
     "data": {
      "text/plain": [
       "160.0"
      ]
     },
     "execution_count": 5,
     "metadata": {},
     "output_type": "execute_result"
    }
   ],
   "source": [
    "m=mov_met[\"vote_count\"].quantile(0.9)\n",
    "m"
   ]
  },
  {
   "attachments": {},
   "cell_type": "markdown",
   "id": "c18e970b",
   "metadata": {},
   "source": [
    "Puisque maintenant vous avez le vous pouvez simplement utiliser une condition supérieure à égale pour filtrer les films ayant plus de 160 votes comptés:m"
   ]
  },
  {
   "attachments": {},
   "cell_type": "markdown",
   "id": "b8302f77",
   "metadata": {},
   "source": [
    "Vous pouvez utiliser la méthode pour vous assurer que le nouveau DataFrame créé est indépendant de votre DataFrame de métadonnées d’origine. En d’autres termes, les modifications apportées au DataFrame q_movies n’affecteront pas le cadre de données de métadonnées d’origine..copy()q_movies"
   ]
  },
  {
   "attachments": {},
   "cell_type": "markdown",
   "id": "47c25f17",
   "metadata": {},
   "source": [
    "## 1_c Filter out all qualified movies into a new DataFrame"
   ]
  },
  {
   "cell_type": "code",
   "execution_count": 6,
   "id": "f3402ad9",
   "metadata": {},
   "outputs": [
    {
     "data": {
      "text/html": [
       "<div>\n",
       "<style scoped>\n",
       "    .dataframe tbody tr th:only-of-type {\n",
       "        vertical-align: middle;\n",
       "    }\n",
       "\n",
       "    .dataframe tbody tr th {\n",
       "        vertical-align: top;\n",
       "    }\n",
       "\n",
       "    .dataframe thead th {\n",
       "        text-align: right;\n",
       "    }\n",
       "</style>\n",
       "<table border=\"1\" class=\"dataframe\">\n",
       "  <thead>\n",
       "    <tr style=\"text-align: right;\">\n",
       "      <th></th>\n",
       "      <th>adult</th>\n",
       "      <th>belongs_to_collection</th>\n",
       "      <th>budget</th>\n",
       "      <th>genres</th>\n",
       "      <th>homepage</th>\n",
       "      <th>id</th>\n",
       "      <th>imdb_id</th>\n",
       "      <th>original_language</th>\n",
       "      <th>original_title</th>\n",
       "      <th>overview</th>\n",
       "      <th>...</th>\n",
       "      <th>release_date</th>\n",
       "      <th>revenue</th>\n",
       "      <th>runtime</th>\n",
       "      <th>spoken_languages</th>\n",
       "      <th>status</th>\n",
       "      <th>tagline</th>\n",
       "      <th>title</th>\n",
       "      <th>video</th>\n",
       "      <th>vote_average</th>\n",
       "      <th>vote_count</th>\n",
       "    </tr>\n",
       "  </thead>\n",
       "  <tbody>\n",
       "    <tr>\n",
       "      <th>0</th>\n",
       "      <td>False</td>\n",
       "      <td>{'id': 10194, 'name': 'Toy Story Collection', ...</td>\n",
       "      <td>30000000</td>\n",
       "      <td>[{'id': 16, 'name': 'Animation'}, {'id': 35, '...</td>\n",
       "      <td>http://toystory.disney.com/toy-story</td>\n",
       "      <td>862</td>\n",
       "      <td>tt0114709</td>\n",
       "      <td>en</td>\n",
       "      <td>Toy Story</td>\n",
       "      <td>Led by Woody, Andy's toys live happily in his ...</td>\n",
       "      <td>...</td>\n",
       "      <td>1995-10-30</td>\n",
       "      <td>373554033.0</td>\n",
       "      <td>81.0</td>\n",
       "      <td>[{'iso_639_1': 'en', 'name': 'English'}]</td>\n",
       "      <td>Released</td>\n",
       "      <td>NaN</td>\n",
       "      <td>Toy Story</td>\n",
       "      <td>False</td>\n",
       "      <td>7.7</td>\n",
       "      <td>5415.0</td>\n",
       "    </tr>\n",
       "    <tr>\n",
       "      <th>1</th>\n",
       "      <td>False</td>\n",
       "      <td>NaN</td>\n",
       "      <td>65000000</td>\n",
       "      <td>[{'id': 12, 'name': 'Adventure'}, {'id': 14, '...</td>\n",
       "      <td>NaN</td>\n",
       "      <td>8844</td>\n",
       "      <td>tt0113497</td>\n",
       "      <td>en</td>\n",
       "      <td>Jumanji</td>\n",
       "      <td>When siblings Judy and Peter discover an encha...</td>\n",
       "      <td>...</td>\n",
       "      <td>1995-12-15</td>\n",
       "      <td>262797249.0</td>\n",
       "      <td>104.0</td>\n",
       "      <td>[{'iso_639_1': 'en', 'name': 'English'}, {'iso...</td>\n",
       "      <td>Released</td>\n",
       "      <td>Roll the dice and unleash the excitement!</td>\n",
       "      <td>Jumanji</td>\n",
       "      <td>False</td>\n",
       "      <td>6.9</td>\n",
       "      <td>2413.0</td>\n",
       "    </tr>\n",
       "    <tr>\n",
       "      <th>4</th>\n",
       "      <td>False</td>\n",
       "      <td>{'id': 96871, 'name': 'Father of the Bride Col...</td>\n",
       "      <td>0</td>\n",
       "      <td>[{'id': 35, 'name': 'Comedy'}]</td>\n",
       "      <td>NaN</td>\n",
       "      <td>11862</td>\n",
       "      <td>tt0113041</td>\n",
       "      <td>en</td>\n",
       "      <td>Father of the Bride Part II</td>\n",
       "      <td>Just when George Banks has recovered from his ...</td>\n",
       "      <td>...</td>\n",
       "      <td>1995-02-10</td>\n",
       "      <td>76578911.0</td>\n",
       "      <td>106.0</td>\n",
       "      <td>[{'iso_639_1': 'en', 'name': 'English'}]</td>\n",
       "      <td>Released</td>\n",
       "      <td>Just When His World Is Back To Normal... He's ...</td>\n",
       "      <td>Father of the Bride Part II</td>\n",
       "      <td>False</td>\n",
       "      <td>5.7</td>\n",
       "      <td>173.0</td>\n",
       "    </tr>\n",
       "    <tr>\n",
       "      <th>5</th>\n",
       "      <td>False</td>\n",
       "      <td>NaN</td>\n",
       "      <td>60000000</td>\n",
       "      <td>[{'id': 28, 'name': 'Action'}, {'id': 80, 'nam...</td>\n",
       "      <td>NaN</td>\n",
       "      <td>949</td>\n",
       "      <td>tt0113277</td>\n",
       "      <td>en</td>\n",
       "      <td>Heat</td>\n",
       "      <td>Obsessive master thief, Neil McCauley leads a ...</td>\n",
       "      <td>...</td>\n",
       "      <td>1995-12-15</td>\n",
       "      <td>187436818.0</td>\n",
       "      <td>170.0</td>\n",
       "      <td>[{'iso_639_1': 'en', 'name': 'English'}, {'iso...</td>\n",
       "      <td>Released</td>\n",
       "      <td>A Los Angeles Crime Saga</td>\n",
       "      <td>Heat</td>\n",
       "      <td>False</td>\n",
       "      <td>7.7</td>\n",
       "      <td>1886.0</td>\n",
       "    </tr>\n",
       "    <tr>\n",
       "      <th>8</th>\n",
       "      <td>False</td>\n",
       "      <td>NaN</td>\n",
       "      <td>35000000</td>\n",
       "      <td>[{'id': 28, 'name': 'Action'}, {'id': 12, 'nam...</td>\n",
       "      <td>NaN</td>\n",
       "      <td>9091</td>\n",
       "      <td>tt0114576</td>\n",
       "      <td>en</td>\n",
       "      <td>Sudden Death</td>\n",
       "      <td>International action superstar Jean Claude Van...</td>\n",
       "      <td>...</td>\n",
       "      <td>1995-12-22</td>\n",
       "      <td>64350171.0</td>\n",
       "      <td>106.0</td>\n",
       "      <td>[{'iso_639_1': 'en', 'name': 'English'}]</td>\n",
       "      <td>Released</td>\n",
       "      <td>Terror goes into overtime.</td>\n",
       "      <td>Sudden Death</td>\n",
       "      <td>False</td>\n",
       "      <td>5.5</td>\n",
       "      <td>174.0</td>\n",
       "    </tr>\n",
       "  </tbody>\n",
       "</table>\n",
       "<p>5 rows × 24 columns</p>\n",
       "</div>"
      ],
      "text/plain": [
       "   adult                              belongs_to_collection    budget  \\\n",
       "0  False  {'id': 10194, 'name': 'Toy Story Collection', ...  30000000   \n",
       "1  False                                                NaN  65000000   \n",
       "4  False  {'id': 96871, 'name': 'Father of the Bride Col...         0   \n",
       "5  False                                                NaN  60000000   \n",
       "8  False                                                NaN  35000000   \n",
       "\n",
       "                                              genres  \\\n",
       "0  [{'id': 16, 'name': 'Animation'}, {'id': 35, '...   \n",
       "1  [{'id': 12, 'name': 'Adventure'}, {'id': 14, '...   \n",
       "4                     [{'id': 35, 'name': 'Comedy'}]   \n",
       "5  [{'id': 28, 'name': 'Action'}, {'id': 80, 'nam...   \n",
       "8  [{'id': 28, 'name': 'Action'}, {'id': 12, 'nam...   \n",
       "\n",
       "                               homepage     id    imdb_id original_language  \\\n",
       "0  http://toystory.disney.com/toy-story    862  tt0114709                en   \n",
       "1                                   NaN   8844  tt0113497                en   \n",
       "4                                   NaN  11862  tt0113041                en   \n",
       "5                                   NaN    949  tt0113277                en   \n",
       "8                                   NaN   9091  tt0114576                en   \n",
       "\n",
       "                original_title  \\\n",
       "0                    Toy Story   \n",
       "1                      Jumanji   \n",
       "4  Father of the Bride Part II   \n",
       "5                         Heat   \n",
       "8                 Sudden Death   \n",
       "\n",
       "                                            overview  ... release_date  \\\n",
       "0  Led by Woody, Andy's toys live happily in his ...  ...   1995-10-30   \n",
       "1  When siblings Judy and Peter discover an encha...  ...   1995-12-15   \n",
       "4  Just when George Banks has recovered from his ...  ...   1995-02-10   \n",
       "5  Obsessive master thief, Neil McCauley leads a ...  ...   1995-12-15   \n",
       "8  International action superstar Jean Claude Van...  ...   1995-12-22   \n",
       "\n",
       "       revenue runtime                                   spoken_languages  \\\n",
       "0  373554033.0    81.0           [{'iso_639_1': 'en', 'name': 'English'}]   \n",
       "1  262797249.0   104.0  [{'iso_639_1': 'en', 'name': 'English'}, {'iso...   \n",
       "4   76578911.0   106.0           [{'iso_639_1': 'en', 'name': 'English'}]   \n",
       "5  187436818.0   170.0  [{'iso_639_1': 'en', 'name': 'English'}, {'iso...   \n",
       "8   64350171.0   106.0           [{'iso_639_1': 'en', 'name': 'English'}]   \n",
       "\n",
       "     status                                            tagline  \\\n",
       "0  Released                                                NaN   \n",
       "1  Released          Roll the dice and unleash the excitement!   \n",
       "4  Released  Just When His World Is Back To Normal... He's ...   \n",
       "5  Released                           A Los Angeles Crime Saga   \n",
       "8  Released                         Terror goes into overtime.   \n",
       "\n",
       "                         title  video vote_average vote_count  \n",
       "0                    Toy Story  False          7.7     5415.0  \n",
       "1                      Jumanji  False          6.9     2413.0  \n",
       "4  Father of the Bride Part II  False          5.7      173.0  \n",
       "5                         Heat  False          7.7     1886.0  \n",
       "8                 Sudden Death  False          5.5      174.0  \n",
       "\n",
       "[5 rows x 24 columns]"
      ]
     },
     "execution_count": 6,
     "metadata": {},
     "output_type": "execute_result"
    }
   ],
   "source": [
    "q_movies=mov_met[mov_met[\"vote_count\"]>=m]\n",
    "q_movies.head()"
   ]
  },
  {
   "attachments": {},
   "cell_type": "markdown",
   "id": "de6bb442",
   "metadata": {},
   "source": [
    "L’étape suivante est la plus importante consiste à calculer la note pondérée pour chaque film qualifié. Pour ce faire, vous allez :"
   ]
  },
  {
   "attachments": {},
   "cell_type": "markdown",
   "id": "f1fe4712",
   "metadata": {},
   "source": [
    "<li>Définir une fonction, weighted_rating();\n",
    "<li>Puisque vous avez déjà calculé et que vous les passerez simplement comme argument à la fonction;mC\n",
    "<li>Ensuite, vous sélectionnerez les colonnes (v) et (R) dans le bloc de données ;vote_countvote_averageq_movies\n",
    "<li>Enfin, vous calculerez la moyenne pondérée et retournerez le résultat.\n"
   ]
  },
  {
   "attachments": {},
   "cell_type": "markdown",
   "id": "663b2e23",
   "metadata": {},
   "source": [
    "Vous allez définir une nouvelle fonctionnalité , dont vous calculerez la valeur en appliquant cette fonction à votre DataFrame de films qualifiés :score"
   ]
  },
  {
   "attachments": {},
   "cell_type": "markdown",
   "id": "c5dd47ba",
   "metadata": {},
   "source": [
    "## 1_d Function that computes the weighted rating of each movie"
   ]
  },
  {
   "cell_type": "code",
   "execution_count": 7,
   "id": "3bbc82d6",
   "metadata": {},
   "outputs": [],
   "source": [
    "R=q_movies[\"vote_count\"]\n",
    "v=q_movies[\"vote_average\"]"
   ]
  },
  {
   "attachments": {},
   "cell_type": "markdown",
   "id": "380fdc6b",
   "metadata": {},
   "source": [
    "## 1_e Define a new feature 'score' and calculate its value with `weighted_rating()"
   ]
  },
  {
   "cell_type": "code",
   "execution_count": 8,
   "id": "9e0f1add",
   "metadata": {},
   "outputs": [
    {
     "name": "stderr",
     "output_type": "stream",
     "text": [
      "/var/folders/df/rtd8q41s4lg7pk5mj05920sw0000gn/T/ipykernel_14512/3698809866.py:1: SettingWithCopyWarning: \n",
      "A value is trying to be set on a copy of a slice from a DataFrame.\n",
      "Try using .loc[row_indexer,col_indexer] = value instead\n",
      "\n",
      "See the caveats in the documentation: https://pandas.pydata.org/pandas-docs/stable/user_guide/indexing.html#returning-a-view-versus-a-copy\n",
      "  q_movies[\"score\"]=(v*R+m*C)/(v+m)\n"
     ]
    }
   ],
   "source": [
    "q_movies[\"score\"]=(v*R+m*C)/(v+m)"
   ]
  },
  {
   "cell_type": "code",
   "execution_count": 9,
   "id": "1f89e3d6",
   "metadata": {},
   "outputs": [
    {
     "data": {
      "text/html": [
       "<div>\n",
       "<style scoped>\n",
       "    .dataframe tbody tr th:only-of-type {\n",
       "        vertical-align: middle;\n",
       "    }\n",
       "\n",
       "    .dataframe tbody tr th {\n",
       "        vertical-align: top;\n",
       "    }\n",
       "\n",
       "    .dataframe thead th {\n",
       "        text-align: right;\n",
       "    }\n",
       "</style>\n",
       "<table border=\"1\" class=\"dataframe\">\n",
       "  <thead>\n",
       "    <tr style=\"text-align: right;\">\n",
       "      <th></th>\n",
       "      <th>adult</th>\n",
       "      <th>belongs_to_collection</th>\n",
       "      <th>budget</th>\n",
       "      <th>genres</th>\n",
       "      <th>homepage</th>\n",
       "      <th>id</th>\n",
       "      <th>imdb_id</th>\n",
       "      <th>original_language</th>\n",
       "      <th>original_title</th>\n",
       "      <th>overview</th>\n",
       "      <th>...</th>\n",
       "      <th>revenue</th>\n",
       "      <th>runtime</th>\n",
       "      <th>spoken_languages</th>\n",
       "      <th>status</th>\n",
       "      <th>tagline</th>\n",
       "      <th>title</th>\n",
       "      <th>video</th>\n",
       "      <th>vote_average</th>\n",
       "      <th>vote_count</th>\n",
       "      <th>score</th>\n",
       "    </tr>\n",
       "  </thead>\n",
       "  <tbody>\n",
       "    <tr>\n",
       "      <th>0</th>\n",
       "      <td>False</td>\n",
       "      <td>{'id': 10194, 'name': 'Toy Story Collection', ...</td>\n",
       "      <td>30000000</td>\n",
       "      <td>[{'id': 16, 'name': 'Animation'}, {'id': 35, '...</td>\n",
       "      <td>http://toystory.disney.com/toy-story</td>\n",
       "      <td>862</td>\n",
       "      <td>tt0114709</td>\n",
       "      <td>en</td>\n",
       "      <td>Toy Story</td>\n",
       "      <td>Led by Woody, Andy's toys live happily in his ...</td>\n",
       "      <td>...</td>\n",
       "      <td>373554033.0</td>\n",
       "      <td>81.0</td>\n",
       "      <td>[{'iso_639_1': 'en', 'name': 'English'}]</td>\n",
       "      <td>Released</td>\n",
       "      <td>NaN</td>\n",
       "      <td>Toy Story</td>\n",
       "      <td>False</td>\n",
       "      <td>7.7</td>\n",
       "      <td>5415.0</td>\n",
       "      <td>253.991730</td>\n",
       "    </tr>\n",
       "    <tr>\n",
       "      <th>1</th>\n",
       "      <td>False</td>\n",
       "      <td>NaN</td>\n",
       "      <td>65000000</td>\n",
       "      <td>[{'id': 12, 'name': 'Adventure'}, {'id': 14, '...</td>\n",
       "      <td>NaN</td>\n",
       "      <td>8844</td>\n",
       "      <td>tt0113497</td>\n",
       "      <td>en</td>\n",
       "      <td>Jumanji</td>\n",
       "      <td>When siblings Judy and Peter discover an encha...</td>\n",
       "      <td>...</td>\n",
       "      <td>262797249.0</td>\n",
       "      <td>104.0</td>\n",
       "      <td>[{'iso_639_1': 'en', 'name': 'English'}, {'iso...</td>\n",
       "      <td>Released</td>\n",
       "      <td>Roll the dice and unleash the excitement!</td>\n",
       "      <td>Jumanji</td>\n",
       "      <td>False</td>\n",
       "      <td>6.9</td>\n",
       "      <td>2413.0</td>\n",
       "      <td>105.144477</td>\n",
       "    </tr>\n",
       "    <tr>\n",
       "      <th>4</th>\n",
       "      <td>False</td>\n",
       "      <td>{'id': 96871, 'name': 'Father of the Bride Col...</td>\n",
       "      <td>0</td>\n",
       "      <td>[{'id': 35, 'name': 'Comedy'}]</td>\n",
       "      <td>NaN</td>\n",
       "      <td>11862</td>\n",
       "      <td>tt0113041</td>\n",
       "      <td>en</td>\n",
       "      <td>Father of the Bride Part II</td>\n",
       "      <td>Just when George Banks has recovered from his ...</td>\n",
       "      <td>...</td>\n",
       "      <td>76578911.0</td>\n",
       "      <td>106.0</td>\n",
       "      <td>[{'iso_639_1': 'en', 'name': 'English'}]</td>\n",
       "      <td>Released</td>\n",
       "      <td>Just When His World Is Back To Normal... He's ...</td>\n",
       "      <td>Father of the Bride Part II</td>\n",
       "      <td>False</td>\n",
       "      <td>5.7</td>\n",
       "      <td>173.0</td>\n",
       "      <td>11.376060</td>\n",
       "    </tr>\n",
       "  </tbody>\n",
       "</table>\n",
       "<p>3 rows × 25 columns</p>\n",
       "</div>"
      ],
      "text/plain": [
       "   adult                              belongs_to_collection    budget  \\\n",
       "0  False  {'id': 10194, 'name': 'Toy Story Collection', ...  30000000   \n",
       "1  False                                                NaN  65000000   \n",
       "4  False  {'id': 96871, 'name': 'Father of the Bride Col...         0   \n",
       "\n",
       "                                              genres  \\\n",
       "0  [{'id': 16, 'name': 'Animation'}, {'id': 35, '...   \n",
       "1  [{'id': 12, 'name': 'Adventure'}, {'id': 14, '...   \n",
       "4                     [{'id': 35, 'name': 'Comedy'}]   \n",
       "\n",
       "                               homepage     id    imdb_id original_language  \\\n",
       "0  http://toystory.disney.com/toy-story    862  tt0114709                en   \n",
       "1                                   NaN   8844  tt0113497                en   \n",
       "4                                   NaN  11862  tt0113041                en   \n",
       "\n",
       "                original_title  \\\n",
       "0                    Toy Story   \n",
       "1                      Jumanji   \n",
       "4  Father of the Bride Part II   \n",
       "\n",
       "                                            overview  ...      revenue  \\\n",
       "0  Led by Woody, Andy's toys live happily in his ...  ...  373554033.0   \n",
       "1  When siblings Judy and Peter discover an encha...  ...  262797249.0   \n",
       "4  Just when George Banks has recovered from his ...  ...   76578911.0   \n",
       "\n",
       "  runtime                                   spoken_languages    status  \\\n",
       "0    81.0           [{'iso_639_1': 'en', 'name': 'English'}]  Released   \n",
       "1   104.0  [{'iso_639_1': 'en', 'name': 'English'}, {'iso...  Released   \n",
       "4   106.0           [{'iso_639_1': 'en', 'name': 'English'}]  Released   \n",
       "\n",
       "                                             tagline  \\\n",
       "0                                                NaN   \n",
       "1          Roll the dice and unleash the excitement!   \n",
       "4  Just When His World Is Back To Normal... He's ...   \n",
       "\n",
       "                         title  video vote_average vote_count       score  \n",
       "0                    Toy Story  False          7.7     5415.0  253.991730  \n",
       "1                      Jumanji  False          6.9     2413.0  105.144477  \n",
       "4  Father of the Bride Part II  False          5.7      173.0   11.376060  \n",
       "\n",
       "[3 rows x 25 columns]"
      ]
     },
     "execution_count": 9,
     "metadata": {},
     "output_type": "execute_result"
    }
   ],
   "source": [
    "q_movies.head(3)"
   ]
  },
  {
   "attachments": {},
   "cell_type": "markdown",
   "id": "56aa0cd0",
   "metadata": {},
   "source": [
    "Enfin, trions le DataFrame par ordre décroissant en fonction de la colonne des fonctionnalités et sortons le titre, le nombre de votes, la moyenne des votes et la note pondérée (score) des 20 meilleurs films.score"
   ]
  },
  {
   "attachments": {},
   "cell_type": "markdown",
   "id": "08cd0741",
   "metadata": {},
   "source": [
    "## 1_f Sort movies based on score calculated above"
   ]
  },
  {
   "cell_type": "code",
   "execution_count": 10,
   "id": "5b82162a",
   "metadata": {},
   "outputs": [
    {
     "name": "stderr",
     "output_type": "stream",
     "text": [
      "/var/folders/df/rtd8q41s4lg7pk5mj05920sw0000gn/T/ipykernel_14512/2406112185.py:1: SettingWithCopyWarning: \n",
      "A value is trying to be set on a copy of a slice from a DataFrame\n",
      "\n",
      "See the caveats in the documentation: https://pandas.pydata.org/pandas-docs/stable/user_guide/indexing.html#returning-a-view-versus-a-copy\n",
      "  q_movies.sort_values(by=\"score\",ascending=False,inplace=True)\n"
     ]
    }
   ],
   "source": [
    "q_movies.sort_values(by=\"score\",ascending=False,inplace=True)"
   ]
  },
  {
   "attachments": {},
   "cell_type": "markdown",
   "id": "ba14b137",
   "metadata": {},
   "source": [
    "## 1_g Print the top 15 movies"
   ]
  },
  {
   "cell_type": "code",
   "execution_count": 11,
   "id": "47f11cac",
   "metadata": {},
   "outputs": [
    {
     "data": {
      "text/html": [
       "<div>\n",
       "<style scoped>\n",
       "    .dataframe tbody tr th:only-of-type {\n",
       "        vertical-align: middle;\n",
       "    }\n",
       "\n",
       "    .dataframe tbody tr th {\n",
       "        vertical-align: top;\n",
       "    }\n",
       "\n",
       "    .dataframe thead th {\n",
       "        text-align: right;\n",
       "    }\n",
       "</style>\n",
       "<table border=\"1\" class=\"dataframe\">\n",
       "  <thead>\n",
       "    <tr style=\"text-align: right;\">\n",
       "      <th></th>\n",
       "      <th>title</th>\n",
       "      <th>vote_count</th>\n",
       "      <th>vote_average</th>\n",
       "      <th>score</th>\n",
       "    </tr>\n",
       "  </thead>\n",
       "  <tbody>\n",
       "    <tr>\n",
       "      <th>15480</th>\n",
       "      <td>Inception</td>\n",
       "      <td>14075.0</td>\n",
       "      <td>8.1</td>\n",
       "      <td>683.559864</td>\n",
       "    </tr>\n",
       "    <tr>\n",
       "      <th>12481</th>\n",
       "      <td>The Dark Knight</td>\n",
       "      <td>12269.0</td>\n",
       "      <td>8.3</td>\n",
       "      <td>610.407684</td>\n",
       "    </tr>\n",
       "    <tr>\n",
       "      <th>22879</th>\n",
       "      <td>Interstellar</td>\n",
       "      <td>11187.0</td>\n",
       "      <td>8.1</td>\n",
       "      <td>544.399840</td>\n",
       "    </tr>\n",
       "    <tr>\n",
       "      <th>17818</th>\n",
       "      <td>The Avengers</td>\n",
       "      <td>12000.0</td>\n",
       "      <td>7.4</td>\n",
       "      <td>535.835801</td>\n",
       "    </tr>\n",
       "    <tr>\n",
       "      <th>14551</th>\n",
       "      <td>Avatar</td>\n",
       "      <td>12114.0</td>\n",
       "      <td>7.2</td>\n",
       "      <td>527.031777</td>\n",
       "    </tr>\n",
       "    <tr>\n",
       "      <th>26564</th>\n",
       "      <td>Deadpool</td>\n",
       "      <td>11444.0</td>\n",
       "      <td>7.4</td>\n",
       "      <td>511.257546</td>\n",
       "    </tr>\n",
       "    <tr>\n",
       "      <th>20051</th>\n",
       "      <td>Django Unchained</td>\n",
       "      <td>10297.0</td>\n",
       "      <td>7.8</td>\n",
       "      <td>484.001866</td>\n",
       "    </tr>\n",
       "    <tr>\n",
       "      <th>2843</th>\n",
       "      <td>Fight Club</td>\n",
       "      <td>9678.0</td>\n",
       "      <td>8.3</td>\n",
       "      <td>482.628123</td>\n",
       "    </tr>\n",
       "    <tr>\n",
       "      <th>23753</th>\n",
       "      <td>Guardians of the Galaxy</td>\n",
       "      <td>10014.0</td>\n",
       "      <td>7.9</td>\n",
       "      <td>476.530751</td>\n",
       "    </tr>\n",
       "    <tr>\n",
       "      <th>292</th>\n",
       "      <td>Pulp Fiction</td>\n",
       "      <td>8670.0</td>\n",
       "      <td>8.3</td>\n",
       "      <td>432.916893</td>\n",
       "    </tr>\n",
       "    <tr>\n",
       "      <th>2458</th>\n",
       "      <td>The Matrix</td>\n",
       "      <td>9079.0</td>\n",
       "      <td>7.9</td>\n",
       "      <td>432.537303</td>\n",
       "    </tr>\n",
       "    <tr>\n",
       "      <th>4863</th>\n",
       "      <td>The Lord of the Rings: The Fellowship of the Ring</td>\n",
       "      <td>8892.0</td>\n",
       "      <td>8.0</td>\n",
       "      <td>428.779245</td>\n",
       "    </tr>\n",
       "    <tr>\n",
       "      <th>314</th>\n",
       "      <td>The Shawshank Redemption</td>\n",
       "      <td>8358.0</td>\n",
       "      <td>8.5</td>\n",
       "      <td>426.954974</td>\n",
       "    </tr>\n",
       "    <tr>\n",
       "      <th>26553</th>\n",
       "      <td>Mad Max: Fury Road</td>\n",
       "      <td>9629.0</td>\n",
       "      <td>7.3</td>\n",
       "      <td>425.526678</td>\n",
       "    </tr>\n",
       "    <tr>\n",
       "      <th>18252</th>\n",
       "      <td>The Dark Knight Rises</td>\n",
       "      <td>9263.0</td>\n",
       "      <td>7.6</td>\n",
       "      <td>425.404016</td>\n",
       "    </tr>\n",
       "  </tbody>\n",
       "</table>\n",
       "</div>"
      ],
      "text/plain": [
       "                                                   title  vote_count  \\\n",
       "15480                                          Inception     14075.0   \n",
       "12481                                    The Dark Knight     12269.0   \n",
       "22879                                       Interstellar     11187.0   \n",
       "17818                                       The Avengers     12000.0   \n",
       "14551                                             Avatar     12114.0   \n",
       "26564                                           Deadpool     11444.0   \n",
       "20051                                   Django Unchained     10297.0   \n",
       "2843                                          Fight Club      9678.0   \n",
       "23753                            Guardians of the Galaxy     10014.0   \n",
       "292                                         Pulp Fiction      8670.0   \n",
       "2458                                          The Matrix      9079.0   \n",
       "4863   The Lord of the Rings: The Fellowship of the Ring      8892.0   \n",
       "314                             The Shawshank Redemption      8358.0   \n",
       "26553                                 Mad Max: Fury Road      9629.0   \n",
       "18252                              The Dark Knight Rises      9263.0   \n",
       "\n",
       "       vote_average       score  \n",
       "15480           8.1  683.559864  \n",
       "12481           8.3  610.407684  \n",
       "22879           8.1  544.399840  \n",
       "17818           7.4  535.835801  \n",
       "14551           7.2  527.031777  \n",
       "26564           7.4  511.257546  \n",
       "20051           7.8  484.001866  \n",
       "2843            8.3  482.628123  \n",
       "23753           7.9  476.530751  \n",
       "292             8.3  432.916893  \n",
       "2458            7.9  432.537303  \n",
       "4863            8.0  428.779245  \n",
       "314             8.5  426.954974  \n",
       "26553           7.3  425.526678  \n",
       "18252           7.6  425.404016  "
      ]
     },
     "execution_count": 11,
     "metadata": {},
     "output_type": "execute_result"
    }
   ],
   "source": [
    "top_15=q_movies[[\"title\",\"vote_count\",\"vote_average\",\"score\"]].head(15)\n",
    "top_15"
   ]
  },
  {
   "attachments": {},
   "cell_type": "markdown",
   "id": "7d566737",
   "metadata": {},
   "source": [
    "# 2)Recommandateur basé sur le contenu"
   ]
  },
  {
   "attachments": {},
   "cell_type": "markdown",
   "id": "a9197b3a",
   "metadata": {},
   "source": [
    "### Recommandateur basé sur la description de l’intrigue"
   ]
  },
  {
   "attachments": {},
   "cell_type": "markdown",
   "id": "c111b658",
   "metadata": {},
   "source": [
    " vous allez apprendre à créer un système qui recommande des films similaires à un film particulier. Pour ce faire, vous calculerez les scores de similarité par paires pour tous les films en fonction de leurs descriptions d’intrigue et recommanderez des films en fonction de ce seuil de score de similarité.cosinus"
   ]
  },
  {
   "attachments": {},
   "cell_type": "markdown",
   "id": "98320389",
   "metadata": {},
   "source": [
    "La description de la parcelle est disponible en tant que fonctionnalité de votre jeu de données. Examinons les intrigues de quelques films:overviewmetadata"
   ]
  },
  {
   "attachments": {},
   "cell_type": "markdown",
   "id": "ebcf6a33",
   "metadata": {},
   "source": [
    "## 2_1 Print plot overviews of the first 5 movies."
   ]
  },
  {
   "cell_type": "code",
   "execution_count": 12,
   "id": "18d4642e",
   "metadata": {},
   "outputs": [
    {
     "name": "stdout",
     "output_type": "stream",
     "text": [
      "Les colonnes disponibles sont: ['credits', 'links', 'movies_metadata', 'ratings_small', 'keywords', 'links_small', 'ratings']\n"
     ]
    }
   ],
   "source": [
    "print(f\"Les colonnes disponibles sont: {list(data.keys())}\")"
   ]
  },
  {
   "cell_type": "code",
   "execution_count": 13,
   "id": "9205cf0e",
   "metadata": {},
   "outputs": [
    {
     "name": "stdout",
     "output_type": "stream",
     "text": [
      "Un exemple de revue du film Toy Story est:\n",
      "\n",
      "0    Led by Woody, Andy's toys live happily in his ...\n",
      "1    When siblings Judy and Peter discover an encha...\n",
      "2    A family wedding reignites the ancient feud be...\n",
      "3    Cheated on, mistreated and stepped on, the wom...\n",
      "4    Just when George Banks has recovered from his ...\n",
      "Name: overview, dtype: object\n"
     ]
    }
   ],
   "source": [
    "print(f'Un exemple de revue du film {data[\"movies_metadata\"][\"title\"][0]} est:\\n\\n{data[\"movies_metadata\"][\"overview\"][:5]}')"
   ]
  },
  {
   "attachments": {},
   "cell_type": "markdown",
   "id": "93a16329",
   "metadata": {},
   "source": [
    "Le problème est un problème de traitement du langage naturel. Par conséquent, vous devez extraire certaines caractéristiques des données textuelles ci-dessus avant de pouvoir calculer la similitude et / ou la dissemblance entre elles. Pour le dire simplement, il n’est pas possible de calculer la similitude entre deux aperçus dans leurs formes brutes. Pour ce faire, vous devez calculer les vecteurs de mots de chaque vue d’ensemble ou document, comme on l’appellera à partir de maintenant."
   ]
  },
  {
   "attachments": {},
   "cell_type": "markdown",
   "id": "773666e4",
   "metadata": {},
   "source": [
    "Comme leur nom l’indique, les vecteurs de mots sont une représentation vectorisée de mots dans un document. Les vecteurs portent avec eux une signification sémantique. Par exemple, l’homme et le roi auront des représentations vectorielles proches l’un de l’autre tandis que l’homme et la femme auront une représentation éloignée l’un de l’autre."
   ]
  },
  {
   "attachments": {},
   "cell_type": "markdown",
   "id": "4f8f0825",
   "metadata": {},
   "source": [
    "Vous calculerez des vecteurs (TF-IDF) pour chaque document. Cela vous donnera une matrice où chaque colonne représente un mot dans le vocabulaire de la vue d’ensemble (tous les mots qui apparaissent dans au moins un document), et chaque colonne représente un film, comme précédemment.Term Frequency-Inverse Document Frequency"
   ]
  },
  {
   "attachments": {},
   "cell_type": "markdown",
   "id": "4c597421",
   "metadata": {},
   "source": [
    "Dans son essence, le score TF-IDF est la fréquence d’un mot apparaissant dans un document, pondérée en fonction du nombre de documents dans lesquels il apparaît. Ceci est fait pour réduire l’importance des mots qui apparaissent fréquemment dans les aperçus de l’intrigue et, par conséquent, leur importance dans le calcul du score de similarité final."
   ]
  },
  {
   "attachments": {},
   "cell_type": "markdown",
   "id": "e38e3e14",
   "metadata": {},
   "source": [
    "Heureusement, scikit-learn vous donne une classe intégrée qui produit la matrice TF-IDF en quelques lignes.TfIdfVectorizer"
   ]
  },
  {
   "attachments": {},
   "cell_type": "markdown",
   "id": "3f1f8b74",
   "metadata": {},
   "source": [
    "<li>Importer le module Tfidf à l’aide de scikit-learn ;\n",
    "<li>Supprimez les mots vides comme « le », « un », etc. puisqu’ils ne donnent aucune information utile sur le sujet;\n",
    "<li>Remplacez les valeurs sans nombre par une chaîne vide ;\n",
    "<li>Enfin, construisez la matrice TF-IDF sur les données."
   ]
  },
  {
   "cell_type": "code",
   "execution_count": 14,
   "id": "c0cad494",
   "metadata": {},
   "outputs": [],
   "source": [
    "# Pour la vectorisation\n",
    "from sklearn.feature_extraction.text import TfidfVectorizer "
   ]
  },
  {
   "cell_type": "code",
   "execution_count": 15,
   "id": "f092d94b",
   "metadata": {},
   "outputs": [],
   "source": [
    "# Pour le pré processing\n",
    "from unidecode import unidecode\n",
    "import re\n",
    "from nltk.stem import SnowballStemmer\n",
    "\n",
    "# Pour la dataviz\n",
    "import matplotlib.pyplot as plt\n",
    "import seaborn as sns\n",
    "from wordcloud import WordCloud\n",
    "\n",
    "# Les bigrammes\n",
    "from collections import Counter\n",
    "from nltk.util import ngrams\n",
    "\n",
    "# Pour la vectorisation\n",
    "from sklearn.feature_extraction.text import TfidfVectorizer \n",
    "\n",
    "# Pour la modélisation\n",
    "from sklearn.model_selection import train_test_split\n",
    "from sklearn.metrics import f1_score, recall_score, precision_score\n",
    "\n",
    "from sklearn.naive_bayes import GaussianNB"
   ]
  },
  {
   "cell_type": "code",
   "execution_count": 16,
   "id": "2cb7b62f",
   "metadata": {},
   "outputs": [
    {
     "data": {
      "text/html": [
       "<div>\n",
       "<style scoped>\n",
       "    .dataframe tbody tr th:only-of-type {\n",
       "        vertical-align: middle;\n",
       "    }\n",
       "\n",
       "    .dataframe tbody tr th {\n",
       "        vertical-align: top;\n",
       "    }\n",
       "\n",
       "    .dataframe thead th {\n",
       "        text-align: right;\n",
       "    }\n",
       "</style>\n",
       "<table border=\"1\" class=\"dataframe\">\n",
       "  <thead>\n",
       "    <tr style=\"text-align: right;\">\n",
       "      <th></th>\n",
       "      <th>overview</th>\n",
       "      <th>title</th>\n",
       "      <th>score</th>\n",
       "    </tr>\n",
       "  </thead>\n",
       "  <tbody>\n",
       "    <tr>\n",
       "      <th>15480</th>\n",
       "      <td>Cobb, a skilled thief who commits corporate es...</td>\n",
       "      <td>Inception</td>\n",
       "      <td>683.559864</td>\n",
       "    </tr>\n",
       "    <tr>\n",
       "      <th>12481</th>\n",
       "      <td>Batman raises the stakes in his war on crime. ...</td>\n",
       "      <td>The Dark Knight</td>\n",
       "      <td>610.407684</td>\n",
       "    </tr>\n",
       "    <tr>\n",
       "      <th>22879</th>\n",
       "      <td>Interstellar chronicles the adventures of a gr...</td>\n",
       "      <td>Interstellar</td>\n",
       "      <td>544.399840</td>\n",
       "    </tr>\n",
       "    <tr>\n",
       "      <th>17818</th>\n",
       "      <td>When an unexpected enemy emerges and threatens...</td>\n",
       "      <td>The Avengers</td>\n",
       "      <td>535.835801</td>\n",
       "    </tr>\n",
       "    <tr>\n",
       "      <th>14551</th>\n",
       "      <td>In the 22nd century, a paraplegic Marine is di...</td>\n",
       "      <td>Avatar</td>\n",
       "      <td>527.031777</td>\n",
       "    </tr>\n",
       "  </tbody>\n",
       "</table>\n",
       "</div>"
      ],
      "text/plain": [
       "                                                overview            title  \\\n",
       "15480  Cobb, a skilled thief who commits corporate es...        Inception   \n",
       "12481  Batman raises the stakes in his war on crime. ...  The Dark Knight   \n",
       "22879  Interstellar chronicles the adventures of a gr...     Interstellar   \n",
       "17818  When an unexpected enemy emerges and threatens...     The Avengers   \n",
       "14551  In the 22nd century, a paraplegic Marine is di...           Avatar   \n",
       "\n",
       "            score  \n",
       "15480  683.559864  \n",
       "12481  610.407684  \n",
       "22879  544.399840  \n",
       "17818  535.835801  \n",
       "14551  527.031777  "
      ]
     },
     "execution_count": 16,
     "metadata": {},
     "output_type": "execute_result"
    }
   ],
   "source": [
    "overview=q_movies.loc[:,[\"overview\",\"title\",\"score\"]]\n",
    "overview.head()"
   ]
  },
  {
   "cell_type": "code",
   "execution_count": 17,
   "id": "b5a7202e",
   "metadata": {},
   "outputs": [
    {
     "data": {
      "text/plain": [
       "['i',\n",
       " 'me',\n",
       " 'my',\n",
       " 'myself',\n",
       " 'we',\n",
       " 'our',\n",
       " 'ours',\n",
       " 'ourselves',\n",
       " 'you',\n",
       " 'your',\n",
       " 'yours',\n",
       " 'yourself',\n",
       " 'yourselves',\n",
       " 'he',\n",
       " 'him',\n",
       " 'his',\n",
       " 'himself',\n",
       " 'she',\n",
       " 'her',\n",
       " 'hers',\n",
       " 'herself',\n",
       " 'it',\n",
       " 'its',\n",
       " 'itself',\n",
       " 'they',\n",
       " 'them',\n",
       " 'their',\n",
       " 'theirs',\n",
       " 'themselves',\n",
       " 'what',\n",
       " 'which',\n",
       " 'who',\n",
       " 'whom',\n",
       " 'this',\n",
       " 'that',\n",
       " 'these',\n",
       " 'those',\n",
       " 'am',\n",
       " 'is',\n",
       " 'are',\n",
       " 'was',\n",
       " 'were',\n",
       " 'be',\n",
       " 'been',\n",
       " 'being',\n",
       " 'have',\n",
       " 'has',\n",
       " 'had',\n",
       " 'having',\n",
       " 'do',\n",
       " 'does',\n",
       " 'did',\n",
       " 'doing',\n",
       " 'a',\n",
       " 'an',\n",
       " 'the',\n",
       " 'and',\n",
       " 'but',\n",
       " 'if',\n",
       " 'or',\n",
       " 'because',\n",
       " 'as',\n",
       " 'until',\n",
       " 'while',\n",
       " 'of',\n",
       " 'at',\n",
       " 'by',\n",
       " 'for',\n",
       " 'with',\n",
       " 'about',\n",
       " 'against',\n",
       " 'between',\n",
       " 'into',\n",
       " 'through',\n",
       " 'during',\n",
       " 'before',\n",
       " 'after',\n",
       " 'above',\n",
       " 'below',\n",
       " 'to',\n",
       " 'from',\n",
       " 'up',\n",
       " 'down',\n",
       " 'in',\n",
       " 'out',\n",
       " 'on',\n",
       " 'off',\n",
       " 'over',\n",
       " 'under',\n",
       " 'again',\n",
       " 'further',\n",
       " 'then',\n",
       " 'once',\n",
       " 'here',\n",
       " 'there',\n",
       " 'when',\n",
       " 'where',\n",
       " 'why',\n",
       " 'how',\n",
       " 'all',\n",
       " 'any',\n",
       " 'both',\n",
       " 'each',\n",
       " 'few',\n",
       " 'more',\n",
       " 'most',\n",
       " 'other',\n",
       " 'some',\n",
       " 'such',\n",
       " 'no',\n",
       " 'nor',\n",
       " 'not',\n",
       " 'only',\n",
       " 'own',\n",
       " 'same',\n",
       " 'so',\n",
       " 'than',\n",
       " 'too',\n",
       " 'very',\n",
       " 's',\n",
       " 't',\n",
       " 'can',\n",
       " 'will',\n",
       " 'just',\n",
       " 'don',\n",
       " 'should',\n",
       " 'now']"
      ]
     },
     "execution_count": 17,
     "metadata": {},
     "output_type": "execute_result"
    }
   ],
   "source": [
    "# Définition de la liste de stop words considérés (celle de spacy + lettres)\n",
    "stopWords = pd.read_csv(\"NLTK's list of english stopwords.csv\",header=None).loc[:,0].tolist()\n",
    "# Création du stemmer\n",
    "stopWords"
   ]
  },
  {
   "cell_type": "code",
   "execution_count": 18,
   "id": "49c7c1b7",
   "metadata": {},
   "outputs": [],
   "source": [
    "stemmer = SnowballStemmer(\"english\")"
   ]
  },
  {
   "attachments": {},
   "cell_type": "markdown",
   "id": "5b4f301e",
   "metadata": {},
   "source": [
    "## Nettoyage de la base"
   ]
  },
  {
   "cell_type": "code",
   "execution_count": 19,
   "id": "e7d985d5",
   "metadata": {},
   "outputs": [
    {
     "name": "stdout",
     "output_type": "stream",
     "text": [
      "<class 'pandas.core.frame.DataFrame'>\n",
      "Int64Index: 4555 entries, 15480 to 9651\n",
      "Data columns (total 3 columns):\n",
      " #   Column    Non-Null Count  Dtype  \n",
      "---  ------    --------------  -----  \n",
      " 0   overview  4550 non-null   object \n",
      " 1   title     4555 non-null   object \n",
      " 2   score     4555 non-null   float64\n",
      "dtypes: float64(1), object(2)\n",
      "memory usage: 142.3+ KB\n"
     ]
    }
   ],
   "source": [
    "# Type\n",
    "overview.info()"
   ]
  },
  {
   "cell_type": "code",
   "execution_count": 20,
   "id": "cc2b4762",
   "metadata": {},
   "outputs": [
    {
     "data": {
      "text/plain": [
       "overview    5\n",
       "title       0\n",
       "score       0\n",
       "dtype: int64"
      ]
     },
     "execution_count": 20,
     "metadata": {},
     "output_type": "execute_result"
    }
   ],
   "source": [
    "# zoom sur les valeurs manquante\n",
    "overview.isnull().sum()"
   ]
  },
  {
   "cell_type": "code",
   "execution_count": 21,
   "id": "b185cd97",
   "metadata": {},
   "outputs": [],
   "source": [
    "# Création d'une fonction pour supprimer les stopWords\n",
    "def no_stop_word(string, stopWords):\n",
    "\n",
    "    \"\"\"\n",
    "    Supprime les stop words d'un texte.\n",
    "\n",
    "    Paramètres\n",
    "    ----------\n",
    "\n",
    "    string : chaine de caractère.\n",
    "\n",
    "    stopWords : liste de mots à exclure. \n",
    "    \"\"\"\n",
    "    \n",
    "    string =\" \".join([mot for mot in string.lower().split(\" \") if mot not in stopWords])\n",
    "    return string\n",
    "\n",
    "# créer une fonction pour stemmiser les mots d'un text\n",
    "def stemmatise_text(text, stemmer):\n",
    "\n",
    "    \"\"\"\n",
    "    Stemmatise un texte : Ramène les mots d'un texte à leur racine (peut créer des mots qui n'existe pas).\n",
    "\n",
    "    Paramètres\n",
    "    ----------\n",
    "\n",
    "    text : Chaine de caractères.\n",
    "\n",
    "    stemmer : Stemmer de NLTK.\n",
    "    \"\"\"\n",
    "    \n",
    "    ## code \n",
    "    string = \" \".join([stemmer.stem(mot) for mot in text.lower().split(\" \")])\n",
    "    return string\n"
   ]
  },
  {
   "cell_type": "code",
   "execution_count": 22,
   "id": "ac356b7d",
   "metadata": {},
   "outputs": [],
   "source": [
    "def stem_cleaner(pandasSeries, stemmer, stopWords):\n",
    "    \n",
    "    print(\"#### Nettoyage en cours ####\") # Mettre des print vous permet de comprendre où votre code rencontre des problèmes en cas de bug\n",
    "    \n",
    "    # confirmation que chaque document est bien de type str\n",
    "    pandasSeries = pandasSeries.apply(lambda x : str(x))\n",
    "    \n",
    "    ### COMMENCEZ A CODER ICI! remplacer les 'None' par votre code ###\n",
    "    \n",
    "    # Passage en minuscule\n",
    "    print(\"... Passage en minuscule\") \n",
    "    pandasSeries = pandasSeries.apply(lambda x : x.lower())\n",
    "    \n",
    "    # Suppression des accents\n",
    "    print(\"... Suppression des accents\") \n",
    "    pandasSeries = pandasSeries.apply(lambda x : unidecode(x))\n",
    "    \n",
    "    # Détection du champs année, c'est pour l'exmple, dans les articles de sports les années peuvent avoir leur importance\n",
    "    # Encore une fois ça se test, tout comme toutes les transformations envisageables\n",
    "    print(\"... Détection du champs année\") \n",
    "    pandasSeries = pandasSeries.apply(lambda x : re.sub(r'[0-9]{4}', 'annee', x))\n",
    "    \n",
    "    # Suppression des caractères spéciaux et numériques\n",
    "    print(\"... Suppression des caractères spéciaux et numériques\") \n",
    "    pandasSeries = pandasSeries.apply(lambda x :re.sub(r\"[^a-z]+\", ' ', x))\n",
    "    \n",
    "    # Suppression des stop words\n",
    "    print(\"... Suppression des stop words\") \n",
    "    pandasSeries = pandasSeries.apply(lambda x : no_stop_word(x, stopWords))\n",
    "    \n",
    "    # Stemmatisation\n",
    "    print(\"... Stemmatisation\")\n",
    "    pandasSeries = pandasSeries.apply(lambda x : stemmatise_text(x, stemmer))\n",
    "    \n",
    "    print(\"#### Nettoyage OK! ####\")\n",
    "\n",
    "    return pandasSeries"
   ]
  },
  {
   "cell_type": "code",
   "execution_count": 23,
   "id": "eb39a072",
   "metadata": {},
   "outputs": [
    {
     "name": "stdout",
     "output_type": "stream",
     "text": [
      "#### Nettoyage en cours ####\n",
      "... Passage en minuscule\n",
      "... Suppression des accents\n",
      "... Détection du champs année\n",
      "... Suppression des caractères spéciaux et numériques\n",
      "... Suppression des stop words\n",
      "... Stemmatisation\n",
      "#### Nettoyage OK! ####\n",
      "CPU times: user 1.68 s, sys: 8.53 ms, total: 1.69 s\n",
      "Wall time: 1.69 s\n"
     ]
    },
    {
     "data": {
      "text/html": [
       "<div>\n",
       "<style scoped>\n",
       "    .dataframe tbody tr th:only-of-type {\n",
       "        vertical-align: middle;\n",
       "    }\n",
       "\n",
       "    .dataframe tbody tr th {\n",
       "        vertical-align: top;\n",
       "    }\n",
       "\n",
       "    .dataframe thead th {\n",
       "        text-align: right;\n",
       "    }\n",
       "</style>\n",
       "<table border=\"1\" class=\"dataframe\">\n",
       "  <thead>\n",
       "    <tr style=\"text-align: right;\">\n",
       "      <th></th>\n",
       "      <th>overview</th>\n",
       "      <th>overview_stem</th>\n",
       "    </tr>\n",
       "  </thead>\n",
       "  <tbody>\n",
       "    <tr>\n",
       "      <th>15480</th>\n",
       "      <td>Cobb, a skilled thief who commits corporate es...</td>\n",
       "      <td>cobb skill thief commit corpor espionag infilt...</td>\n",
       "    </tr>\n",
       "    <tr>\n",
       "      <th>12481</th>\n",
       "      <td>Batman raises the stakes in his war on crime. ...</td>\n",
       "      <td>batman rais stake war crime help lt jim gordon...</td>\n",
       "    </tr>\n",
       "    <tr>\n",
       "      <th>22879</th>\n",
       "      <td>Interstellar chronicles the adventures of a gr...</td>\n",
       "      <td>interstellar chronicl adventur group explor ma...</td>\n",
       "    </tr>\n",
       "    <tr>\n",
       "      <th>17818</th>\n",
       "      <td>When an unexpected enemy emerges and threatens...</td>\n",
       "      <td>unexpect enemi emerg threaten global safeti se...</td>\n",
       "    </tr>\n",
       "    <tr>\n",
       "      <th>14551</th>\n",
       "      <td>In the 22nd century, a paraplegic Marine is di...</td>\n",
       "      <td>nd centuri parapleg marin dispatch moon pandor...</td>\n",
       "    </tr>\n",
       "  </tbody>\n",
       "</table>\n",
       "</div>"
      ],
      "text/plain": [
       "                                                overview  \\\n",
       "15480  Cobb, a skilled thief who commits corporate es...   \n",
       "12481  Batman raises the stakes in his war on crime. ...   \n",
       "22879  Interstellar chronicles the adventures of a gr...   \n",
       "17818  When an unexpected enemy emerges and threatens...   \n",
       "14551  In the 22nd century, a paraplegic Marine is di...   \n",
       "\n",
       "                                           overview_stem  \n",
       "15480  cobb skill thief commit corpor espionag infilt...  \n",
       "12481  batman rais stake war crime help lt jim gordon...  \n",
       "22879  interstellar chronicl adventur group explor ma...  \n",
       "17818  unexpect enemi emerg threaten global safeti se...  \n",
       "14551  nd centuri parapleg marin dispatch moon pandor...  "
      ]
     },
     "execution_count": 23,
     "metadata": {},
     "output_type": "execute_result"
    }
   ],
   "source": [
    "%%time\n",
    "overview['overview_stem'] = stem_cleaner(overview['overview'], stemmer, stopWords)\n",
    "\n",
    "overview[['overview', 'overview_stem']].head()"
   ]
  },
  {
   "attachments": {},
   "cell_type": "markdown",
   "id": "34278ec8",
   "metadata": {},
   "source": [
    "Avec cette matrice en main, vous pouvez maintenant calculer un score de similarité. Il existe plusieurs mesures de similarité que vous pouvez utiliser pour cela, telles que les scores de similitude manhattan, euclidien, Pearson et cosinus. Encore une fois, il n’y a pas de bonne réponse à la question de savoir quel score est le meilleur. Différents scores fonctionnent bien dans différents scénarios, et c’est souvent une bonne idée d’expérimenter avec différentes mesures et d’observer les résultats."
   ]
  },
  {
   "attachments": {},
   "cell_type": "markdown",
   "id": "6f6097ac",
   "metadata": {},
   "source": [
    "Vous utiliserez le pour calculer une quantité numérique qui indique la similitude entre deux films. Vous utilisez le score de similarité cosinus car il est indépendant de l’ampleur et est relativement facile et rapide à calculer (surtout lorsqu’il est utilisé en conjonction avec les scores TF-IDF, qui seront expliqués plus tard). Mathématiquement, il est défini comme suit:cosine similarity\n"
   ]
  },
  {
   "attachments": {},
   "cell_type": "markdown",
   "id": "fa84bd6d",
   "metadata": {},
   "source": [
    "Puisque vous avez utilisé le vectoriseur TF-IDF, le calcul du produit ponctuel entre chaque vecteur vous donnera directement le score de similarité cosinus. Par conséquent, vous utiliserez à la place de car il est plus rapide.sklearn's linear_kernel()cosine_similarities()"
   ]
  },
  {
   "attachments": {},
   "cell_type": "markdown",
   "id": "b6c82dd2",
   "metadata": {},
   "source": [
    "Cela renverrait une matrice de forme 45466x45466, ce qui signifie que chaque film score de similitude cosinus avec tous les autres films. Par conséquent, chaque film sera un vecteur colonne 1x45466 où chaque colonne sera un score de similarité avec chaque film.overviewoverview"
   ]
  },
  {
   "attachments": {},
   "cell_type": "markdown",
   "id": "09df9f43",
   "metadata": {},
   "source": [
    "## 2_2 Compute the cosine similarity matrix"
   ]
  },
  {
   "cell_type": "code",
   "execution_count": 24,
   "id": "6eddbe87",
   "metadata": {},
   "outputs": [],
   "source": [
    "# Import linear_kernel\n",
    "from sklearn.metrics.pairwise import linear_kernel"
   ]
  },
  {
   "cell_type": "code",
   "execution_count": 25,
   "id": "6e495dab",
   "metadata": {},
   "outputs": [],
   "source": [
    "overview.reset_index(drop=True,inplace=True)"
   ]
  },
  {
   "cell_type": "code",
   "execution_count": 26,
   "id": "d0ea6247",
   "metadata": {},
   "outputs": [
    {
     "data": {
      "text/html": [
       "<div>\n",
       "<style scoped>\n",
       "    .dataframe tbody tr th:only-of-type {\n",
       "        vertical-align: middle;\n",
       "    }\n",
       "\n",
       "    .dataframe tbody tr th {\n",
       "        vertical-align: top;\n",
       "    }\n",
       "\n",
       "    .dataframe thead th {\n",
       "        text-align: right;\n",
       "    }\n",
       "</style>\n",
       "<table border=\"1\" class=\"dataframe\">\n",
       "  <thead>\n",
       "    <tr style=\"text-align: right;\">\n",
       "      <th></th>\n",
       "      <th>overview</th>\n",
       "      <th>title</th>\n",
       "      <th>score</th>\n",
       "      <th>overview_stem</th>\n",
       "    </tr>\n",
       "  </thead>\n",
       "  <tbody>\n",
       "    <tr>\n",
       "      <th>0</th>\n",
       "      <td>Cobb, a skilled thief who commits corporate es...</td>\n",
       "      <td>Inception</td>\n",
       "      <td>683.559864</td>\n",
       "      <td>cobb skill thief commit corpor espionag infilt...</td>\n",
       "    </tr>\n",
       "    <tr>\n",
       "      <th>1</th>\n",
       "      <td>Batman raises the stakes in his war on crime. ...</td>\n",
       "      <td>The Dark Knight</td>\n",
       "      <td>610.407684</td>\n",
       "      <td>batman rais stake war crime help lt jim gordon...</td>\n",
       "    </tr>\n",
       "    <tr>\n",
       "      <th>2</th>\n",
       "      <td>Interstellar chronicles the adventures of a gr...</td>\n",
       "      <td>Interstellar</td>\n",
       "      <td>544.399840</td>\n",
       "      <td>interstellar chronicl adventur group explor ma...</td>\n",
       "    </tr>\n",
       "    <tr>\n",
       "      <th>3</th>\n",
       "      <td>When an unexpected enemy emerges and threatens...</td>\n",
       "      <td>The Avengers</td>\n",
       "      <td>535.835801</td>\n",
       "      <td>unexpect enemi emerg threaten global safeti se...</td>\n",
       "    </tr>\n",
       "    <tr>\n",
       "      <th>4</th>\n",
       "      <td>In the 22nd century, a paraplegic Marine is di...</td>\n",
       "      <td>Avatar</td>\n",
       "      <td>527.031777</td>\n",
       "      <td>nd centuri parapleg marin dispatch moon pandor...</td>\n",
       "    </tr>\n",
       "  </tbody>\n",
       "</table>\n",
       "</div>"
      ],
      "text/plain": [
       "                                            overview            title  \\\n",
       "0  Cobb, a skilled thief who commits corporate es...        Inception   \n",
       "1  Batman raises the stakes in his war on crime. ...  The Dark Knight   \n",
       "2  Interstellar chronicles the adventures of a gr...     Interstellar   \n",
       "3  When an unexpected enemy emerges and threatens...     The Avengers   \n",
       "4  In the 22nd century, a paraplegic Marine is di...           Avatar   \n",
       "\n",
       "        score                                      overview_stem  \n",
       "0  683.559864  cobb skill thief commit corpor espionag infilt...  \n",
       "1  610.407684  batman rais stake war crime help lt jim gordon...  \n",
       "2  544.399840  interstellar chronicl adventur group explor ma...  \n",
       "3  535.835801  unexpect enemi emerg threaten global safeti se...  \n",
       "4  527.031777  nd centuri parapleg marin dispatch moon pandor...  "
      ]
     },
     "execution_count": 26,
     "metadata": {},
     "output_type": "execute_result"
    }
   ],
   "source": [
    "overview.head()"
   ]
  },
  {
   "cell_type": "code",
   "execution_count": 27,
   "id": "524d4cd6",
   "metadata": {},
   "outputs": [
    {
     "name": "stdout",
     "output_type": "stream",
     "text": [
      "La base contient 4555 obs et 242681 features\n"
     ]
    }
   ],
   "source": [
    "tfidf = TfidfVectorizer(ngram_range=(1, 3)) \n",
    "tfidf.fit(overview.loc[:,('overview_stem')].values.astype('U')) # Les parenthèses permettent d'extraire la colonne sous forme de série pandas. Ne rien mettre passait aussi mais bof…\n",
    "\n",
    "overview_tfidf = tfidf.transform(overview['overview_stem'].values.astype('U')).toarray()\n",
    "\n",
    "print(f\"La base contient {overview_tfidf.shape[0]} obs et {overview_tfidf.shape[1]} features\")"
   ]
  },
  {
   "cell_type": "code",
   "execution_count": 28,
   "id": "64f5a90f",
   "metadata": {},
   "outputs": [],
   "source": [
    "cos_sim_overviews=linear_kernel(overview_tfidf)"
   ]
  },
  {
   "cell_type": "code",
   "execution_count": 29,
   "id": "734c9f4d",
   "metadata": {},
   "outputs": [
    {
     "data": {
      "text/plain": [
       "(4555, 4555)"
      ]
     },
     "execution_count": 29,
     "metadata": {},
     "output_type": "execute_result"
    }
   ],
   "source": [
    "cos_sim_overviews.shape"
   ]
  },
  {
   "attachments": {},
   "cell_type": "markdown",
   "id": "2cc0ef98",
   "metadata": {},
   "source": [
    "Vous allez définir une fonction qui prend un titre de film en entrée et sort une liste des 10 films les plus similaires. Tout d’abord, pour cela, vous avez besoin d’un mappage inverse des titres de films et des index DataFrame. En d’autres termes, vous avez besoin d’un mécanisme pour identifier l’index d’un film dans votre DataFrame, compte tenu de son titre.metadata"
   ]
  },
  {
   "attachments": {},
   "cell_type": "markdown",
   "id": "a4b99e37",
   "metadata": {},
   "source": [
    "## 2_3 Construct a reverse map of indices and movie titles\n"
   ]
  },
  {
   "cell_type": "code",
   "execution_count": 30,
   "id": "e8135a2a",
   "metadata": {},
   "outputs": [],
   "source": [
    "def reverse_map(title:str)->str:\n",
    "    return (overview.index[overview[\"title\"]==title][0])"
   ]
  },
  {
   "attachments": {},
   "cell_type": "markdown",
   "id": "c556fd38",
   "metadata": {},
   "source": [
    "Vous êtes maintenant en bonne forme pour définir votre fonction de recommandation. Voici les étapes suivantes que vous suivrez :"
   ]
  },
  {
   "attachments": {},
   "cell_type": "markdown",
   "id": "11071a03",
   "metadata": {},
   "source": [
    "<li>Obtenez l’index du film étant donné son titre.\n",
    "\n",
    "<li>Obtenez la liste des scores de similitude cosinus pour ce film particulier avec tous les films. Convertissez-le en une liste de tuples où le premier élément est sa position, et le second est le score de similarité.\n",
    "\n",
    "<li>Triez la liste de tuples susmentionnée en fonction des scores de similarité; c’est-à-dire le deuxième élément.\n",
    "\n",
    "<li>Obtenez les 10 principaux éléments de cette liste. Ignorez le premier élément car il se réfère à soi (le film le plus similaire à un film particulier est le film lui-même).\n",
    "\n",
    "<li>Renvoyer les titres correspondant aux index des éléments supérieurs."
   ]
  },
  {
   "cell_type": "code",
   "execution_count": 31,
   "id": "93aed2c6",
   "metadata": {},
   "outputs": [],
   "source": [
    "def liste_recommandations(title:str)->list:\n",
    "    cos_sim_title=pd.Series(cos_sim_overviews[reverse_map(title),:])\n",
    "    top_cos_sims=cos_sim_title.sort_values(ascending=False).head(11)[1:]\n",
    "    top_indexes=top_cos_sims.index.tolist()\n",
    "    liste=overview.loc[top_indexes,\"title\"].tolist()\n",
    "    return liste"
   ]
  },
  {
   "cell_type": "code",
   "execution_count": 153,
   "id": "17e5ebb2",
   "metadata": {},
   "outputs": [
    {
     "data": {
      "text/plain": [
       "['Cypher',\n",
       " 'What Ever Happened to Baby Jane?',\n",
       " 'Mission: Impossible - Rogue Nation',\n",
       " 'Minority Report',\n",
       " 'The East',\n",
       " 'Descendants',\n",
       " 'Ghost Dog: The Way of the Samurai',\n",
       " 'Much Ado About Nothing',\n",
       " 'Central Intelligence',\n",
       " 'The Net']"
      ]
     },
     "execution_count": 153,
     "metadata": {},
     "output_type": "execute_result"
    }
   ],
   "source": [
    "liste_recommandations(\"Inception\")"
   ]
  },
  {
   "attachments": {},
   "cell_type": "markdown",
   "id": "b78d216b",
   "metadata": {},
   "source": [
    "# 3 Recommandation  basé sur les crédits, les genres et les mots-clés"
   ]
  },
  {
   "attachments": {},
   "cell_type": "markdown",
   "id": "1f1afa0b",
   "metadata": {},
   "source": [
    "La qualité de votre recommandateur serait améliorée avec l’utilisation de meilleures métadonnées et en capturant plus de détails plus fins. C’est précisément ce que vous allez faire dans cette section. Vous construirez un système de recommandation basé sur les métadonnées suivantes: les 3 meilleurs acteurs, le réalisateur, les genres associés et les mots-clés de l’intrigue du film."
   ]
  },
  {
   "attachments": {},
   "cell_type": "markdown",
   "id": "c3ae8de6",
   "metadata": {},
   "source": [
    "Les mots-clés, les données de distribution et d’équipe ne sont pas disponibles dans votre jeu de données actuel, la première étape consiste donc à les charger et à les fusionner dans votre DataFrame principal.metadata"
   ]
  },
  {
   "cell_type": "code",
   "execution_count": 35,
   "id": "21ef6bb0",
   "metadata": {},
   "outputs": [],
   "source": [
    "# Load keywords and credits\n",
    "credits = pd.read_csv(\"data/credits.csv\")\n",
    "keywords = pd.read_csv(\"data/keywords.csv\")\n",
    "\n",
    "# Remove rows with bad IDs.\n",
    "mov_met = mov_met.drop([19730, 29503, 35587])\n",
    "\n",
    "# Convert IDs to int. required for merging\n",
    "keywords['id'] = keywords['id'].astype('int')\n",
    "credits['id'] = credits['id'].astype('int')\n",
    "mov_met['id'] = mov_met['id'].astype('int')\n",
    "\n",
    "# Merge keywords and credits into your main metadata dataframe\n",
    "mov_met = mov_met.merge(credits, on='id')\n",
    "mov_met = mov_met.merge(keywords, on='id')"
   ]
  },
  {
   "cell_type": "code",
   "execution_count": 36,
   "id": "e662292a",
   "metadata": {},
   "outputs": [
    {
     "data": {
      "text/html": [
       "<div>\n",
       "<style scoped>\n",
       "    .dataframe tbody tr th:only-of-type {\n",
       "        vertical-align: middle;\n",
       "    }\n",
       "\n",
       "    .dataframe tbody tr th {\n",
       "        vertical-align: top;\n",
       "    }\n",
       "\n",
       "    .dataframe thead th {\n",
       "        text-align: right;\n",
       "    }\n",
       "</style>\n",
       "<table border=\"1\" class=\"dataframe\">\n",
       "  <thead>\n",
       "    <tr style=\"text-align: right;\">\n",
       "      <th></th>\n",
       "      <th>adult</th>\n",
       "      <th>belongs_to_collection</th>\n",
       "      <th>budget</th>\n",
       "      <th>genres</th>\n",
       "      <th>homepage</th>\n",
       "      <th>id</th>\n",
       "      <th>imdb_id</th>\n",
       "      <th>original_language</th>\n",
       "      <th>original_title</th>\n",
       "      <th>overview</th>\n",
       "      <th>...</th>\n",
       "      <th>title</th>\n",
       "      <th>video</th>\n",
       "      <th>vote_average</th>\n",
       "      <th>vote_count</th>\n",
       "      <th>cast_x</th>\n",
       "      <th>crew_x</th>\n",
       "      <th>keywords_x</th>\n",
       "      <th>cast_y</th>\n",
       "      <th>crew_y</th>\n",
       "      <th>keywords_y</th>\n",
       "    </tr>\n",
       "  </thead>\n",
       "  <tbody>\n",
       "    <tr>\n",
       "      <th>19730</th>\n",
       "      <td>False</td>\n",
       "      <td>NaN</td>\n",
       "      <td>0</td>\n",
       "      <td>[{'id': 16, 'name': 'Animation'}, {'id': 878, ...</td>\n",
       "      <td>http://www.studio-rikka.com/page/pale/pale_top...</td>\n",
       "      <td>20683</td>\n",
       "      <td>tt1506448</td>\n",
       "      <td>ja</td>\n",
       "      <td>ペイル・コクーン</td>\n",
       "      <td>In the far future when the continuity of the h...</td>\n",
       "      <td>...</td>\n",
       "      <td>Pale Cocoon</td>\n",
       "      <td>False</td>\n",
       "      <td>6.8</td>\n",
       "      <td>16.0</td>\n",
       "      <td>[{'cast_id': 2, 'character': 'Yoko Yamaguchi',...</td>\n",
       "      <td>[{'credit_id': '52fe43f3c3a368484e007aa1', 'de...</td>\n",
       "      <td>[{'id': 4458, 'name': 'post-apocalyptic'}, {'i...</td>\n",
       "      <td>[{'cast_id': 2, 'character': 'Yoko Yamaguchi',...</td>\n",
       "      <td>[{'credit_id': '52fe43f3c3a368484e007aa1', 'de...</td>\n",
       "      <td>[{'id': 4458, 'name': 'post-apocalyptic'}, {'i...</td>\n",
       "    </tr>\n",
       "    <tr>\n",
       "      <th>29503</th>\n",
       "      <td>False</td>\n",
       "      <td>NaN</td>\n",
       "      <td>0</td>\n",
       "      <td>[{'id': 18, 'name': 'Drama'}, {'id': 9648, 'na...</td>\n",
       "      <td>http://www.mylifetime.com/movies/secrets-of-eden</td>\n",
       "      <td>88318</td>\n",
       "      <td>tt2191805</td>\n",
       "      <td>en</td>\n",
       "      <td>Secrets of Eden</td>\n",
       "      <td>Based on Chris Bohjalian’s New York Times best...</td>\n",
       "      <td>...</td>\n",
       "      <td>Secrets of Eden</td>\n",
       "      <td>False</td>\n",
       "      <td>4.8</td>\n",
       "      <td>6.0</td>\n",
       "      <td>[{'cast_id': 4, 'character': 'Catherine Benica...</td>\n",
       "      <td>[{'credit_id': '52fe49f09251416c910bdd1d', 'de...</td>\n",
       "      <td>[{'id': 818, 'name': 'based on novel'}, {'id':...</td>\n",
       "      <td>[{'cast_id': 4, 'character': 'Catherine Benica...</td>\n",
       "      <td>[{'credit_id': '52fe49f09251416c910bdd1d', 'de...</td>\n",
       "      <td>[{'id': 818, 'name': 'based on novel'}, {'id':...</td>\n",
       "    </tr>\n",
       "    <tr>\n",
       "      <th>35587</th>\n",
       "      <td>False</td>\n",
       "      <td>NaN</td>\n",
       "      <td>0</td>\n",
       "      <td>[]</td>\n",
       "      <td>http://www.imdb.com/title/tt0232079/</td>\n",
       "      <td>159666</td>\n",
       "      <td>tt0232079</td>\n",
       "      <td>en</td>\n",
       "      <td>Mela</td>\n",
       "      <td>Roopa, a beautiful young village belle is much...</td>\n",
       "      <td>...</td>\n",
       "      <td>Mela</td>\n",
       "      <td>False</td>\n",
       "      <td>5.5</td>\n",
       "      <td>4.0</td>\n",
       "      <td>[{'cast_id': 2, 'character': 'Kishan Pyare', '...</td>\n",
       "      <td>[{'credit_id': '52fe4c1a9251416c910efd97', 'de...</td>\n",
       "      <td>[]</td>\n",
       "      <td>[{'cast_id': 2, 'character': 'Kishan Pyare', '...</td>\n",
       "      <td>[{'credit_id': '52fe4c1a9251416c910efd97', 'de...</td>\n",
       "      <td>[]</td>\n",
       "    </tr>\n",
       "  </tbody>\n",
       "</table>\n",
       "<p>3 rows × 30 columns</p>\n",
       "</div>"
      ],
      "text/plain": [
       "       adult belongs_to_collection budget  \\\n",
       "19730  False                   NaN      0   \n",
       "29503  False                   NaN      0   \n",
       "35587  False                   NaN      0   \n",
       "\n",
       "                                                  genres  \\\n",
       "19730  [{'id': 16, 'name': 'Animation'}, {'id': 878, ...   \n",
       "29503  [{'id': 18, 'name': 'Drama'}, {'id': 9648, 'na...   \n",
       "35587                                                 []   \n",
       "\n",
       "                                                homepage      id    imdb_id  \\\n",
       "19730  http://www.studio-rikka.com/page/pale/pale_top...   20683  tt1506448   \n",
       "29503   http://www.mylifetime.com/movies/secrets-of-eden   88318  tt2191805   \n",
       "35587               http://www.imdb.com/title/tt0232079/  159666  tt0232079   \n",
       "\n",
       "      original_language   original_title  \\\n",
       "19730                ja         ペイル・コクーン   \n",
       "29503                en  Secrets of Eden   \n",
       "35587                en             Mela   \n",
       "\n",
       "                                                overview  ...  \\\n",
       "19730  In the far future when the continuity of the h...  ...   \n",
       "29503  Based on Chris Bohjalian’s New York Times best...  ...   \n",
       "35587  Roopa, a beautiful young village belle is much...  ...   \n",
       "\n",
       "                 title  video vote_average vote_count  \\\n",
       "19730      Pale Cocoon  False          6.8       16.0   \n",
       "29503  Secrets of Eden  False          4.8        6.0   \n",
       "35587             Mela  False          5.5        4.0   \n",
       "\n",
       "                                                  cast_x  \\\n",
       "19730  [{'cast_id': 2, 'character': 'Yoko Yamaguchi',...   \n",
       "29503  [{'cast_id': 4, 'character': 'Catherine Benica...   \n",
       "35587  [{'cast_id': 2, 'character': 'Kishan Pyare', '...   \n",
       "\n",
       "                                                  crew_x  \\\n",
       "19730  [{'credit_id': '52fe43f3c3a368484e007aa1', 'de...   \n",
       "29503  [{'credit_id': '52fe49f09251416c910bdd1d', 'de...   \n",
       "35587  [{'credit_id': '52fe4c1a9251416c910efd97', 'de...   \n",
       "\n",
       "                                              keywords_x  \\\n",
       "19730  [{'id': 4458, 'name': 'post-apocalyptic'}, {'i...   \n",
       "29503  [{'id': 818, 'name': 'based on novel'}, {'id':...   \n",
       "35587                                                 []   \n",
       "\n",
       "                                                  cast_y  \\\n",
       "19730  [{'cast_id': 2, 'character': 'Yoko Yamaguchi',...   \n",
       "29503  [{'cast_id': 4, 'character': 'Catherine Benica...   \n",
       "35587  [{'cast_id': 2, 'character': 'Kishan Pyare', '...   \n",
       "\n",
       "                                                  crew_y  \\\n",
       "19730  [{'credit_id': '52fe43f3c3a368484e007aa1', 'de...   \n",
       "29503  [{'credit_id': '52fe49f09251416c910bdd1d', 'de...   \n",
       "35587  [{'credit_id': '52fe4c1a9251416c910efd97', 'de...   \n",
       "\n",
       "                                              keywords_y  \n",
       "19730  [{'id': 4458, 'name': 'post-apocalyptic'}, {'i...  \n",
       "29503  [{'id': 818, 'name': 'based on novel'}, {'id':...  \n",
       "35587                                                 []  \n",
       "\n",
       "[3 rows x 30 columns]"
      ]
     },
     "execution_count": 36,
     "metadata": {},
     "output_type": "execute_result"
    }
   ],
   "source": [
    "mov_met.iloc[[19730, 29503, 35587],:]"
   ]
  },
  {
   "attachments": {},
   "cell_type": "markdown",
   "id": "21d048eb",
   "metadata": {},
   "source": [
    "À partir de vos nouveaux longs métrages, acteurs, équipes et mots-clés, vous devez extraire les trois acteurs les plus importants, le réalisateur et les mots-clés associés à ce film."
   ]
  },
  {
   "attachments": {},
   "cell_type": "markdown",
   "id": "6c8fcc08",
   "metadata": {},
   "source": [
    "Mais tout d’abord, vos données sont présentes sous la forme de listes « stringifiées ». Vous devez les convertir d’une manière utilisable pour vous."
   ]
  },
  {
   "cell_type": "code",
   "execution_count": 25,
   "id": "7e0d0f09",
   "metadata": {},
   "outputs": [],
   "source": [
    "# Parse the stringified features into their corresponding python objects\n",
    "from ast import literal_eval\n",
    "\n",
    "features = ['cast', 'crew', 'keywords', 'genres']\n",
    "\n",
    "for feature in features:\n",
    "\n",
    "    metadata[feature] = metadata[feature].apply(literal_eval)\n"
   ]
  },
  {
   "attachments": {},
   "cell_type": "markdown",
   "id": "c3048cc9",
   "metadata": {},
   "source": [
    "Ensuite, vous écrivez des fonctions qui vous aideront à extraire les informations requises de chaque fonctionnalité."
   ]
  },
  {
   "attachments": {},
   "cell_type": "markdown",
   "id": "e7e0c6c8",
   "metadata": {},
   "source": [
    "Tout d’abord, vous allez importer le paquet NumPy pour accéder à sa constante. Ensuite, vous pouvez l’utiliser pour écrire la fonction:NaNget_director()"
   ]
  },
  {
   "cell_type": "code",
   "execution_count": 26,
   "id": "fe4d4f89",
   "metadata": {},
   "outputs": [],
   "source": [
    "# Import Numpy\n",
    "import numpy as np"
   ]
  },
  {
   "attachments": {},
   "cell_type": "markdown",
   "id": "2ff0bd26",
   "metadata": {},
   "source": [
    "Obtenez le nom du réalisateur dans la fonction d’équipe. Si le directeur ne figure pas dans la liste, retournez NaN"
   ]
  },
  {
   "cell_type": "code",
   "execution_count": null,
   "id": "88d4270a",
   "metadata": {},
   "outputs": [],
   "source": []
  },
  {
   "cell_type": "code",
   "execution_count": null,
   "id": "6bae8851",
   "metadata": {},
   "outputs": [],
   "source": []
  },
  {
   "attachments": {},
   "cell_type": "markdown",
   "id": "14de5746",
   "metadata": {},
   "source": [
    "Ensuite, vous allez écrire une fonction qui retournera les 3 premiers éléments ou la liste entière, selon le montant le plus élevé. Ici, la liste fait référence aux , et .castkeywordsgenres"
   ]
  },
  {
   "cell_type": "code",
   "execution_count": null,
   "id": "b0bcbe3a",
   "metadata": {},
   "outputs": [],
   "source": []
  },
  {
   "cell_type": "code",
   "execution_count": null,
   "id": "ab5cd51e",
   "metadata": {},
   "outputs": [],
   "source": []
  },
  {
   "attachments": {},
   "cell_type": "markdown",
   "id": "5814b190",
   "metadata": {},
   "source": [
    "Définir de nouvelles caractéristiques de directeur, de distribution, de genres et de mots-clés qui sont dans une forme appropriée."
   ]
  },
  {
   "cell_type": "code",
   "execution_count": 49,
   "id": "d16d4690",
   "metadata": {},
   "outputs": [],
   "source": [
    "# Define new director, cast, genres and keywords features that are in a suitable form.\n",
    "metadata['director'] = metadata['crew'].apply(get_director)\n",
    "\n",
    "features = ['cast', 'keywords', 'genres']\n",
    "for feature in features:\n",
    "    metadata[feature] = metadata[feature].apply(get_list)"
   ]
  },
  {
   "cell_type": "code",
   "execution_count": null,
   "id": "ec6f6772",
   "metadata": {},
   "outputs": [],
   "source": [
    "Affichier les nouveautés des 3 premiers films"
   ]
  },
  {
   "attachments": {},
   "cell_type": "markdown",
   "id": "850f708c",
   "metadata": {},
   "source": [
    "L’étape suivante consisterait à convertir les noms et les occurrences de mots-clés en minuscules et à supprimer tous les espaces entre eux."
   ]
  },
  {
   "attachments": {},
   "cell_type": "markdown",
   "id": "784f5c6b",
   "metadata": {},
   "source": [
    "La suppression des espaces entre les mots est une étape de prétraitement importante. C’est fait pour que votre vectorisateur ne compte pas le Johnny de « Johnny Depp » et « Johnny Galecki » comme identique. Après cette étape de traitement, les acteurs susmentionnés seront représentés comme « johnnydepp » et « johnnygalecki » et seront distincts de votre vectoriseur."
   ]
  },
  {
   "attachments": {},
   "cell_type": "markdown",
   "id": "353a198b",
   "metadata": {},
   "source": [
    "Un autre bon exemple où le modèle pourrait produire la même représentation vectorielle est « embouteillage » et « embouteillage ». Par conséquent, il est préférable de dépouiller tout espace présent."
   ]
  },
  {
   "attachments": {},
   "cell_type": "markdown",
   "id": "d617fc65",
   "metadata": {},
   "source": [
    "Ecrire une fonction qui convertir toutes les chaînes en minuscules et les noms de bandes d’espaces"
   ]
  },
  {
   "cell_type": "code",
   "execution_count": null,
   "id": "35bfe690",
   "metadata": {},
   "outputs": [],
   "source": []
  },
  {
   "cell_type": "code",
   "execution_count": null,
   "id": "166b98dc",
   "metadata": {},
   "outputs": [],
   "source": []
  },
  {
   "attachments": {},
   "cell_type": "markdown",
   "id": "c866e365",
   "metadata": {},
   "source": [
    "Appliquer la fonction  à vos fonctionnalités. 'cast', 'keywords', 'director', 'genres'"
   ]
  },
  {
   "attachments": {},
   "cell_type": "markdown",
   "id": "de05d7a9",
   "metadata": {},
   "source": [
    "Vous êtes maintenant en mesure de créer votre « soupe de métadonnées », qui est une chaîne qui contient toutes les métadonnées que vous souhaitez alimenter votre vectoriseur (à savoir les acteurs, le réalisateur et les mots-clés)."
   ]
  },
  {
   "attachments": {},
   "cell_type": "markdown",
   "id": "9a077f8b",
   "metadata": {},
   "source": [
    "La fonction joindra simplement toutes les colonnes requises par un espace. Il s’agit de la dernière étape de prétraitement, et la sortie de cette fonction sera introduite dans le modèle vectoriel verbal.create_soup"
   ]
  },
  {
   "cell_type": "code",
   "execution_count": null,
   "id": "ab083bf3",
   "metadata": {},
   "outputs": [],
   "source": []
  },
  {
   "cell_type": "code",
   "execution_count": null,
   "id": "bd60ffd3",
   "metadata": {},
   "outputs": [],
   "source": []
  },
  {
   "cell_type": "code",
   "execution_count": null,
   "id": "aaed8846",
   "metadata": {},
   "outputs": [],
   "source": []
  }
 ],
 "metadata": {
  "kernelspec": {
   "display_name": "Python 3",
   "language": "python",
   "name": "python3"
  },
  "language_info": {
   "codemirror_mode": {
    "name": "ipython",
    "version": 3
   },
   "file_extension": ".py",
   "mimetype": "text/x-python",
   "name": "python",
   "nbconvert_exporter": "python",
   "pygments_lexer": "ipython3",
   "version": "3.9.13"
  },
  "vscode": {
   "interpreter": {
    "hash": "aee8b7b246df8f9039afb4144a1f6fd8d2ca17a180786b69acc140d282b71a49"
   }
  }
 },
 "nbformat": 4,
 "nbformat_minor": 5
}
